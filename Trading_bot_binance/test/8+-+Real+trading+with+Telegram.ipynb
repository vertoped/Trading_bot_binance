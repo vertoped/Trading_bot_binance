{
 "cells": [
  {
   "cell_type": "code",
   "execution_count": 2,
   "metadata": {},
   "outputs": [
    {
     "ename": "ModuleNotFoundError",
     "evalue": "No module named 'futures_sign'",
     "output_type": "error",
     "traceback": [
      "\u001b[1;31m---------------------------------------------------------------------------\u001b[0m",
      "\u001b[1;31mModuleNotFoundError\u001b[0m                       Traceback (most recent call last)",
      "Input \u001b[1;32mIn [2]\u001b[0m, in \u001b[0;36m<cell line: 12>\u001b[1;34m()\u001b[0m\n\u001b[0;32m      9\u001b[0m \u001b[38;5;28;01mimport\u001b[39;00m \u001b[38;5;21;01mjson\u001b[39;00m\n\u001b[0;32m     11\u001b[0m \u001b[38;5;28;01mfrom\u001b[39;00m \u001b[38;5;21;01mbinance\u001b[39;00m \u001b[38;5;28;01mimport\u001b[39;00m Client, ThreadedWebsocketManager, ThreadedDepthCacheManager\n\u001b[1;32m---> 12\u001b[0m \u001b[38;5;28;01mfrom\u001b[39;00m \u001b[38;5;21;01mfutures_sign\u001b[39;00m \u001b[38;5;28;01mimport\u001b[39;00m send_signed_request, send_public_request\n\u001b[0;32m     13\u001b[0m \u001b[38;5;28;01mfrom\u001b[39;00m \u001b[38;5;21;01mcred\u001b[39;00m \u001b[38;5;28;01mimport\u001b[39;00m KEY, SECRET\n",
      "\u001b[1;31mModuleNotFoundError\u001b[0m: No module named 'futures_sign'"
     ]
    }
   ],
   "source": [
    "import requests\n",
    "import numpy as np\n",
    "import pandas as pd\n",
    "import statsmodels.api as sm\n",
    "import matplotlib.pyplot as plt\n",
    "import copy\n",
    "import time\n",
    "import random\n",
    "import json\n",
    "\n",
    "from binance import Client, ThreadedWebsocketManager, ThreadedDepthCacheManager\n",
    "from futures_sign import send_signed_request, send_public_request\n",
    "from cred import KEY, SECRET"
   ]
  },
  {
   "cell_type": "code",
   "execution_count": null,
   "metadata": {},
   "outputs": [],
   "source": [
    "symbol='BTCUSDT'\n",
    "client = Client(KEY, SECRET)\n",
    "\n",
    "maxposition=0.03 #1 = 100%\n",
    "stop_percent=0.0036 # 0.0036=0,36%\n",
    "profit_percent=0.007\n",
    "btc_proffit_array=[[20,1],[40,1],[60,2],[80,2],[100,2],[150,1],[200,1],[200,0]] #заменить на тейк профит\n",
    "leverage=20\n",
    "proffit_array=copy.copy(btc_proffit_array)\n",
    "\n",
    "pointer=str(random.randint(1000, 9999))\n"
   ]
  },
  {
   "cell_type": "code",
   "execution_count": null,
   "metadata": {},
   "outputs": [],
   "source": [
    "client.futures_get_position_mode(symbol='BTCUSDT', marginType='ISOLATED')"
   ]
  },
  {
   "cell_type": "code",
   "execution_count": null,
   "metadata": {
    "tags": []
   },
   "outputs": [],
   "source": [
    "# Set Hedge mode \n",
    "#client.futures_change_position_mode(symbol='BTCUSDT', dualSidePosition='TRUE')"
   ]
  },
  {
   "cell_type": "code",
   "execution_count": null,
   "metadata": {
    "tags": []
   },
   "outputs": [],
   "source": [
    "#client.futures_change_margin_type(symbol='BTCUSDT', marginType='ISOLATED')"
   ]
  },
  {
   "cell_type": "code",
   "execution_count": null,
   "metadata": {
    "tags": []
   },
   "outputs": [],
   "source": [
    "#client.futures_change_leverage(symbol=symbol, leverage=leverage)"
   ]
  },
  {
   "cell_type": "code",
   "execution_count": null,
   "metadata": {},
   "outputs": [],
   "source": []
  },
  {
   "cell_type": "code",
   "execution_count": null,
   "metadata": {
    "tags": []
   },
   "outputs": [],
   "source": [
    "# Get last 500 kandels 5 minutes for Symbol\n",
    "\n",
    "def get_futures_klines(symbol,limit=500):\n",
    "    x = requests.get('https://binance.com/fapi/v1/klines?symbol='+symbol+'&limit='+str(limit)+'&interval=5m')\n",
    "    df=pd.DataFrame(x.json())\n",
    "    df.columns=['open_time','open','high','low','close','volume','close_time','d1','d2','d3','d4','d5']\n",
    "    df=df.drop(['d1','d2','d3','d4','d5'],axis=1)\n",
    "    df['open']=df['open'].astype(float)\n",
    "    df['high']=df['high'].astype(float)\n",
    "    df['low']=df['low'].astype(float)\n",
    "    df['close']=df['close'].astype(float)\n",
    "    df['volume']=df['volume'].astype(float)\n",
    "    return(df)"
   ]
  },
  {
   "cell_type": "code",
   "execution_count": null,
   "metadata": {},
   "outputs": [],
   "source": [
    "# Open position for Sybol with \n",
    "\n",
    "def open_position(symbol,s_l,quantity_l):\n",
    "    prt('open: '+symbol+' quantity: '+str(quantity_l))\n",
    "    sprice=get_symbol_price(symbol)\n",
    "\n",
    "    if(s_l=='long'):\n",
    "        close_price=str(round(sprice*(1+0.01),2))\n",
    "        params = {\n",
    "            \"batchOrders\": [\n",
    "                {\n",
    "                    \"symbol\":symbol,\n",
    "                    \"side\": \"BUY\",\n",
    "                    \"positionSide\": \"LONG\",\n",
    "                    \"type\": \"LIMIT\",\n",
    "                    \"quantity\": str(quantity_l),\n",
    "                    \"timeInForce\":\"GTC\",\n",
    "                    \"price\": close_price        \n",
    "                }\n",
    "            ]\n",
    "        }\n",
    "        responce = send_signed_request('POST', '/fapi/v1/batchOrders', params)\n",
    "       \n",
    "       \n",
    "    if(s_l=='short'):\n",
    "        close_price=str(round(sprice*(1-0.01),2))\n",
    "        params = {\n",
    "            \"batchOrders\": [\n",
    "                {\n",
    "                    \"symbol\":symbol,\n",
    "                    \"side\": \"SELL\",\n",
    "                    \"positionSide\": \"SHORT\",\n",
    "                    \"type\": \"LIMIT\",\n",
    "                    \"quantity\": str(quantity_l),\n",
    "                    \"timeInForce\":\"GTC\",\n",
    "                    \"price\": close_price\n",
    "                }\n",
    "           ]\n",
    "        }\n",
    "        responce = send_signed_request('POST', '/fapi/v1/batchOrders', params)\n",
    "        \n"
   ]
  },
  {
   "cell_type": "code",
   "execution_count": null,
   "metadata": {},
   "outputs": [],
   "source": [
    "# Close position for symbol with quantity\n",
    "\n",
    "def close_position(symbol,s_l,quantity_l):\n",
    "    prt('close: '+symbol+' quantity: '+str(quantity_l))\n",
    "\n",
    "    sprice=get_symbol_price(symbol)\n",
    "\n",
    "    if(s_l=='long'):\n",
    "        close_price=str(round(sprice*(1-0.01),2))\n",
    "        params = {\n",
    "                    \"symbol\":symbol,\n",
    "                    \"side\": \"SELL\",\n",
    "                    \"positionSide\": \"LONG\",\n",
    "                    \"type\": \"LIMIT\",\n",
    "                    \"quantity\": str(quantity_l), \n",
    "                    \"timeInForce\":\"GTC\",\n",
    "                    \"price\": close_price\n",
    "                }\n",
    "        responce = send_signed_request('POST', '/fapi/v1/order', params)\n",
    "        print (responce)\n",
    "\n",
    "    if(s_l=='short'):\n",
    "        close_price=str(round(sprice*(1+0.01),2))\n",
    "        params = {\n",
    "                \n",
    "                    \"symbol\":symbol,\n",
    "                    \"side\": \"BUY\",\n",
    "                    \"positionSide\": \"SHORT\",\n",
    "                    \"type\": \"LIMIT\",\n",
    "                    \"quantity\": str(quantity_l),\n",
    "                    \"timeInForce\":\"GTC\",\n",
    "                    \"price\": close_price        \n",
    "                }\n",
    "        responce = send_signed_request('POST', '/fapi/v1/order', params)\n",
    "        print (responce)\n",
    "\n",
    "\n"
   ]
  },
  {
   "cell_type": "code",
   "execution_count": null,
   "metadata": {
    "tags": []
   },
   "outputs": [],
   "source": [
    "get_opened_positions(symbol)"
   ]
  },
  {
   "cell_type": "code",
   "execution_count": null,
   "metadata": {},
   "outputs": [],
   "source": [
    "# Find all opened positions\n",
    "\n",
    "def get_opened_positions(symbol):\n",
    "    status = client.futures_account()\n",
    "    positions=pd.DataFrame(status['positions'])\n",
    "    a = positions[positions['symbol']==symbol]['positionAmt'].astype(float).tolist()[0]\n",
    "    leverage = int(positions[positions['symbol']==symbol]['leverage'])\n",
    "    entryprice = positions[positions['symbol']==symbol]['entryPrice']\n",
    "    profit = float(status['totalUnrealizedProfit'])\n",
    "    balance = round(float(status['totalWalletBalance']),2)\n",
    "    if a>0:\n",
    "        pos = \"long\"\n",
    "    elif a<0:\n",
    "        pos = \"short\"\n",
    "    else: \n",
    "        pos = \"\"\n",
    "    return([pos,a,profit,leverage,balance,round(float(entryprice),3),0])\n",
    "\n",
    "\n"
   ]
  },
  {
   "cell_type": "code",
   "execution_count": null,
   "metadata": {},
   "outputs": [],
   "source": [
    "# Close all orders \n",
    "\n",
    "def check_and_close_orders(symbol):\n",
    "    global isStop \n",
    "    a=client.futures_get_open_orders(symbol=symbol)\n",
    "    if len(a)>0:\n",
    "        isStop = False\n",
    "        client.futures_cancel_all_open_orders(symbol=symbol)"
   ]
  },
  {
   "cell_type": "code",
   "execution_count": null,
   "metadata": {},
   "outputs": [],
   "source": [
    "def get_symbol_price(symbol):\n",
    "    prices = client.get_all_tickers()\n",
    "    df=pd.DataFrame(prices)\n",
    "    return float(df[ df['symbol']==symbol]['price'])"
   ]
  },
  {
   "cell_type": "code",
   "execution_count": null,
   "metadata": {},
   "outputs": [],
   "source": [
    "# INDICATORS"
   ]
  },
  {
   "cell_type": "code",
   "execution_count": null,
   "metadata": {
    "tags": []
   },
   "outputs": [],
   "source": [
    "# To find a slope of price line \n",
    "def indSlope(series,n):\n",
    "    \n",
    "    array_sl = [j*0 for j in range(n-1)]\n",
    "    \n",
    "    for j in range(n,len(series)+1):\n",
    "        y = series[j-n:j]\n",
    "        x = np.array(range(n))\n",
    "        x_sc = (x - x.min())/(x.max() - x.min())\n",
    "        y_sc = (y - y.min())/(y.max() - y.min())\n",
    "        x_sc = sm.add_constant(x_sc)\n",
    "        model = sm.OLS(y_sc,x_sc)\n",
    "        results = model.fit()\n",
    "        array_sl.append(results.params[-1])\n",
    "    slope_angle = (np.rad2deg(np.arctan(np.array(array_sl))))\n",
    "    return np.array(slope_angle)"
   ]
  },
  {
   "cell_type": "code",
   "execution_count": null,
   "metadata": {
    "tags": []
   },
   "outputs": [],
   "source": [
    "# True Range and Average True Range indicator\n",
    "\n",
    "def indATR(source_DF,n):\n",
    "    df = source_DF.copy()\n",
    "    df['H-L']=abs(df['high']-df['low'])\n",
    "    df['H-PC']=abs(df['high']-df['close'].shift(1))\n",
    "    df['L-PC']=abs(df['low']-df['close'].shift(1))\n",
    "    df['TR']=df[['H-L','H-PC','L-PC']].max(axis=1,skipna=False)\n",
    "    df['ATR'] = df['TR'].rolling(n).mean()\n",
    "    df_temp = df.drop(['H-L','H-PC','L-PC'],axis=1)\n",
    "    return df_temp"
   ]
  },
  {
   "cell_type": "code",
   "execution_count": null,
   "metadata": {
    "tags": []
   },
   "outputs": [],
   "source": [
    "# find local mimimum / local maximum\n",
    "\n",
    "def isLCC(DF,i):\n",
    "    df=DF.copy()\n",
    "    LCC=0\n",
    "    \n",
    "    if df['close'][i]<=df['close'][i+1] and df['close'][i]<=df['close'][i-1] and df['close'][i+1]>df['close'][i-1]:\n",
    "        #найдено Дно\n",
    "        LCC = i-1;\n",
    "    return LCC\n",
    "\n",
    "def isHCC(DF,i):\n",
    "    df=DF.copy()\n",
    "    HCC=0\n",
    "    if df['close'][i]>=df['close'][i+1] and df['close'][i]>=df['close'][i-1] and df['close'][i+1]<df['close'][i-1]:\n",
    "        #найдена вершина\n",
    "        HCC = i;\n",
    "    return HCC\n",
    "\n"
   ]
  },
  {
   "cell_type": "code",
   "execution_count": null,
   "metadata": {
    "tags": []
   },
   "outputs": [],
   "source": [
    "\n",
    "def getMaxMinChannel(DF, n):\n",
    "    maxx=0\n",
    "    minn=DF['low'].max()\n",
    "    for i in range (1,n):\n",
    "        if maxx<DF['high'][len(DF)-i]:\n",
    "            maxx=DF['high'][len(DF)-i]\n",
    "        if minn>DF['low'][len(DF)-i]:\n",
    "            minn=DF['low'][len(DF)-i]\n",
    "    return(maxx,minn)\n"
   ]
  },
  {
   "cell_type": "code",
   "execution_count": null,
   "metadata": {
    "tags": []
   },
   "outputs": [],
   "source": [
    "# generate data frame with all needed data\n",
    "\n",
    "def PrepareDF(DF):\n",
    "    ohlc = DF.iloc[:,[0,1,2,3,4,5]]\n",
    "    ohlc.columns = [\"date\",\"open\",\"high\",\"low\",\"close\",\"volume\"]\n",
    "    ohlc=ohlc.set_index('date')\n",
    "    df = indATR(ohlc,14).reset_index()\n",
    "    df['slope'] = indSlope(df['close'],5)\n",
    "    df['channel_max'] = df['high'].rolling(10).max()\n",
    "    df['channel_min'] = df['low'].rolling(10).min()\n",
    "    df['position_in_channel'] = (df['close']-df['channel_min']) / (df['channel_max']-df['channel_min'])\n",
    "    df = df.set_index('date')\n",
    "    df = df.reset_index()\n",
    "    return(df)"
   ]
  },
  {
   "cell_type": "code",
   "execution_count": null,
   "metadata": {
    "tags": []
   },
   "outputs": [],
   "source": [
    "def check_if_signal(symbol):\n",
    "    ohlc = get_futures_klines(symbol,100)\n",
    "    prepared_df = PrepareDF(ohlc)\n",
    "    signal=\"\" # return value\n",
    "    \n",
    "    i=98 # 99 is current kandel which is not closed, 98 is last closed candel, we need 97 to check if it is bottom or top\n",
    "    \n",
    "    if isLCC(prepared_df,i-1)>0:\n",
    "       # found bottom - OPEN LONG\n",
    "        if prepared_df['position_in_channel'][i-1]<0.5:\n",
    "            # close to top of channel\n",
    "            if prepared_df['slope'][i-1]<-20:\n",
    "                # found a good enter point for LONG\n",
    "                signal='long'\n",
    "\n",
    "    if isHCC(prepared_df,i-1)>0:\n",
    "       # found top - OPEN SHORT\n",
    "        if prepared_df['position_in_channel'][i-1]>0.5:\n",
    "            # close to top of channel\n",
    "            if prepared_df['slope'][i-1]>20:\n",
    "                # found a good enter point for SHORT\n",
    "                signal='short'\n",
    "\n",
    "    return signal\n",
    "    "
   ]
  },
  {
   "cell_type": "code",
   "execution_count": null,
   "metadata": {},
   "outputs": [],
   "source": [
    "telegram_delay=12\n",
    "bot_token='5454990445:AAGzfeY80oeI-1su0MEIRVuvTzBYIVlZIXU'\n",
    "chat_id='92428939'\n",
    "#exit=0\n",
    "\n",
    "def getTPSLfrom_telegram():\n",
    "    strr='https://api.telegram.org/bot'+bot_token+'/getUpdates'\n",
    "    response = requests.get(strr)\n",
    "    rs=response.json()\n",
    "    if(len(rs['result'])>0):\n",
    "        rs2=rs['result'][-1]\n",
    "        rs3=rs2['message']\n",
    "        textt=rs3['text']\n",
    "        datet=rs3['date']\n",
    "\n",
    "        if(time.time()-datet)<telegram_delay:\n",
    "            if 'quit' in textt:\n",
    "                quit()\n",
    "            if 'exit' in textt:\n",
    "                exit==1\n",
    "            if 'hello' in textt:\n",
    "                telegram_bot_sendtext('Hello. How are you?')\n",
    "            if 'close_pos' in textt:\n",
    "                position=get_opened_positions(symbol)\n",
    "                open_sl=position[0]\n",
    "                quantity=position[1]\n",
    "              #  print(open_sl,quantity)\n",
    "                close_position(symbol,open_sl,abs(quantity)) #abs - по модулю"
   ]
  },
  {
   "cell_type": "code",
   "execution_count": null,
   "metadata": {},
   "outputs": [],
   "source": [
    "def telegram_bot_sendtext(bot_message):\n",
    "    bot_token2 = bot_token\n",
    "    bot_chatID = chat_id\n",
    "    send_text = 'https://api.telegram.org/bot' + bot_token2 + '/sendMessage?chat_id=' + bot_chatID + '&parse_mode=Markdown&text=' + bot_message\n",
    "    response = requests.get(send_text)\n",
    "    return response.json()"
   ]
  },
  {
   "cell_type": "code",
   "execution_count": null,
   "metadata": {},
   "outputs": [],
   "source": [
    "def prt(message):\n",
    "    # telegram message\n",
    "    telegram_bot_sendtext(pointer+': '+message)\n",
    "    print(pointer+': '+message)"
   ]
  },
  {
   "cell_type": "code",
   "execution_count": 20,
   "metadata": {},
   "outputs": [],
   "source": [
    "def main(step):\n",
    "    global proffit_array\n",
    "\n",
    "    try:\n",
    "        getTPSLfrom_telegram()\n",
    "        position=get_opened_positions(symbol)\n",
    "        open_sl=position[0]\n",
    "        if open_sl==\"\": # no position\n",
    "            prt('Нет открытых позиций')\n",
    "            # close all stop loss orders\n",
    "            check_and_close_orders(symbol)\n",
    "            signal=check_if_signal(symbol) #Заменить октрытие сигналу на открытие после закрытию\n",
    "            proffit_array=copy.copy(btc_proffit_array)\n",
    "            open_position(symbol,'long',maxposition)\n",
    "            open_position(symbol,'short',maxposition)\n",
    "        else:\n",
    "            \n",
    "            entry_price=position[5] # enter price\n",
    "            current_price=get_symbol_price(symbol)\n",
    "            quantity=position[1]\n",
    "\n",
    "            prt('Найдена открытая позиция '+open_sl)\n",
    "            prt('Кол-во: '+str(quantity))\n",
    "\n",
    "            if open_sl=='long':\n",
    "                stop_price=entry_price*(1-stop_percent)\n",
    "                # take_price=entry_price*(1+profit_percent)\n",
    "                if current_price<stop_price:\n",
    "                    #stop loss\n",
    "                    close_position(symbol,'long',abs(quantity))\n",
    "                    proffit_array=copy.copy(btc_proffit_array)\n",
    "                #elif current_price>take_price:\n",
    "                    # close_position(symbol,'long',abs(quantity))\n",
    "                    # добавить запись в статистику\n",
    "                else: #цикл порционного закрытия не нужен\n",
    "                    temp_arr=copy.copy(proffit_array)\n",
    "                    for j in range(0,len(temp_arr)-1):\n",
    "                        delta=temp_arr[j][0]\n",
    "                        contracts=temp_arr[j][1]\n",
    "                        if(current_price>(entry_price+delta)): #условие выхода, \n",
    "                        # take profit\n",
    "                            close_position(symbol,'long',abs(round(maxposition*(contracts/10),3))) #заменить на закрытие на всю сумму\n",
    "                            del proffit_array[0]\n",
    "\n",
    "            if open_sl=='short':\n",
    "                stop_price=entry_price*(1+stop_percent)\n",
    "                # take_price=entry_price*(1-profit_percent)\n",
    "                if current_price>stop_price:\n",
    "                    #stop loss\n",
    "                    close_position(symbol,'short',abs(quantity))\n",
    "                    proffit_array=copy.copy(btc_proffit_array)\n",
    "                #elif current_price<take_price:\n",
    "                    # close_position(symbol,'long',abs(quantity))\n",
    "                    # добавить запись в статистику\n",
    "                else: #цикл порционного закрытия не нужен\n",
    "                    temp_arr=copy.copy(proffit_array)\n",
    "                    for j in range(0,len(temp_arr)-1):\n",
    "                        delta=temp_arr[j][0]\n",
    "                        contracts=temp_arr[j][1]\n",
    "                        if(current_price<(entry_price-delta)): #условие выхода\n",
    "                        # take profit\n",
    "                            close_position(symbol,'short',abs(round(maxposition*(contracts/10),3))) #заменить на закрытие на всю сумму\n",
    "                            del proffit_array[0]\n",
    "      \n",
    "    except :\n",
    "        prt('\\n\\nSomething went wrong. Continuing...')\n"
   ]
  },
  {
   "cell_type": "code",
   "execution_count": null,
   "metadata": {
    "scrolled": true,
    "tags": []
   },
   "outputs": [],
   "source": [
    "starttime=time.time()\n",
    "timeout = time.time() + 60*60*12  # 60 seconds times 60 meaning the script will run for 12 hr\n",
    "counterr=1\n",
    "\n",
    "while time.time() <= timeout:\n",
    "    try:\n",
    "        #getTPSLfrom_telegram()\n",
    "        #if exit==1:\n",
    "        #    break\n",
    "        prt(\"script continue running at \"+time.strftime('%Y-%m-%d %H:%M:%S', time.localtime(time.time())))\n",
    "        main(counterr)\n",
    "        counterr=counterr+1\n",
    "        if counterr>5:\n",
    "            counterr=1\n",
    "        time.sleep(15 - ((time.time() - starttime) % 10.0)) # 1 minute interval between each new execution\n",
    "    except KeyboardInterrupt:\n",
    "        print('\\n\\KeyboardInterrupt. Stopping.')"
   ]
  },
  {
   "cell_type": "code",
   "execution_count": null,
   "metadata": {},
   "outputs": [],
   "source": []
  }
 ],
 "metadata": {
  "kernelspec": {
   "display_name": "Python 3 (ipykernel)",
   "language": "python",
   "name": "python3"
  },
  "language_info": {
   "codemirror_mode": {
    "name": "ipython",
    "version": 3
   },
   "file_extension": ".py",
   "mimetype": "text/x-python",
   "name": "python",
   "nbconvert_exporter": "python",
   "pygments_lexer": "ipython3",
   "version": "3.9.12"
  }
 },
 "nbformat": 4,
 "nbformat_minor": 4
}
