{
 "cells": [
  {
   "cell_type": "code",
   "execution_count": 1,
   "metadata": {},
   "outputs": [],
   "source": [
    "import requests\n",
    "import numpy as np\n",
    "import pandas as pd\n",
    "import statsmodels.api as sm\n",
    "import matplotlib.pyplot as plt\n",
    "import copy\n",
    "import time\n",
    "import random\n",
    "import threading\n",
    "\n",
    "from binance import Client, ThreadedWebsocketManager, ThreadedDepthCacheManager\n",
    "from binance.helpers import round_step_size\n",
    "from futures_sign_test import send_signed_request, send_public_request\n",
    "from cred_test import KEY, SECRET"
   ]
  },
  {
   "cell_type": "code",
   "execution_count": 2,
   "metadata": {},
   "outputs": [],
   "source": [
    "symbol='BTCUSDT'\n",
    "client = Client(KEY, SECRET, testnet=True)\n",
    "\n",
    "maxposition=0.01 #1 = 100%\n",
    "quantity=str(maxposition/2)\n",
    "profit_percent=0.02\n",
    "stop_percent=profit_percent/1.7\n",
    "pointer=str(random.randint(1000, 9999))"
   ]
  },
  {
   "cell_type": "code",
   "execution_count": 3,
   "metadata": {
    "tags": []
   },
   "outputs": [
    {
     "data": {
      "text/plain": [
       "{'dualSidePosition': True}"
      ]
     },
     "execution_count": 3,
     "metadata": {},
     "output_type": "execute_result"
    }
   ],
   "source": [
    "# Hedge mode \n",
    "client.futures_get_position_mode()"
   ]
  },
  {
   "cell_type": "code",
   "execution_count": 4,
   "metadata": {
    "tags": []
   },
   "outputs": [],
   "source": [
    "# Find all opened positions\n",
    "\n",
    "def get_opened_positions(symbol):\n",
    "    status = client.futures_account()\n",
    "    positions=pd.DataFrame(status['positions'])\n",
    "    a = positions[positions['symbol']==symbol]['notional'].astype(float).tolist()[1]\n",
    "    b = positions[positions['symbol']==symbol]['notional'].astype(float).tolist()[2]\n",
    "    open_positions=positions[positions['symbol']==symbol]\n",
    "    long_position=float(open_positions[open_positions['positionSide']=='LONG']['entryPrice'])\n",
    "    short_position=float(open_positions[open_positions['positionSide']=='SHORT']['entryPrice'])\n",
    "    profit = float(status['totalUnrealizedProfit'])\n",
    "    balance = round(float(status['totalWalletBalance']),2)\n",
    "    if a>0:\n",
    "        pos_long = \"long\"\n",
    "    else:\n",
    "        pos_long = \"\"\n",
    "    if b<0:\n",
    "        pos_short = \"short\"\n",
    "    else: \n",
    "        pos_short = \"\"\n",
    "    return([pos_long,pos_short,profit,balance,long_position,short_position])"
   ]
  },
  {
   "cell_type": "code",
   "execution_count": 5,
   "metadata": {},
   "outputs": [
    {
     "data": {
      "text/plain": [
       "['', '', 0.0, 2682.06, 0.0, 0.0]"
      ]
     },
     "execution_count": 5,
     "metadata": {},
     "output_type": "execute_result"
    }
   ],
   "source": [
    "get_opened_positions(symbol)"
   ]
  },
  {
   "cell_type": "code",
   "execution_count": 6,
   "metadata": {
    "tags": []
   },
   "outputs": [],
   "source": [
    "# Close all orders \n",
    "\n",
    "def check_and_close_orders(symbol):\n",
    "    global isStop \n",
    "    a=client.futures_get_open_orders(symbol=symbol)\n",
    "    if len(a)>0:\n",
    "        isStop = False\n",
    "        client.futures_cancel_all_open_orders(symbol=symbol)"
   ]
  },
  {
   "cell_type": "code",
   "execution_count": 7,
   "metadata": {},
   "outputs": [],
   "source": [
    "check_and_close_orders(symbol)"
   ]
  },
  {
   "cell_type": "code",
   "execution_count": 8,
   "metadata": {
    "tags": []
   },
   "outputs": [],
   "source": [
    "def get_symbol_price(symbol):\n",
    "    prices = client.get_all_tickers()\n",
    "    df=pd.DataFrame(prices)\n",
    "    return float(df[ df['symbol']==symbol]['price'])"
   ]
  },
  {
   "cell_type": "code",
   "execution_count": 9,
   "metadata": {
    "tags": []
   },
   "outputs": [
    {
     "name": "stdout",
     "output_type": "stream",
     "text": [
      "0.01\n"
     ]
    }
   ],
   "source": [
    "#получить tick size\n",
    "data = client.futures_exchange_info()\n",
    "tick_size = 0.0\n",
    "the_symbol = \"BTCBUSD\"\n",
    "\n",
    "found = False\n",
    "info = data['symbols']\n",
    "for s in range(len(info)):\n",
    "    if info[s]['symbol'] == the_symbol:\n",
    "        filters = info[s]['filters']\n",
    "        for f in range(len(filters)):\n",
    "            if filters[f]['filterType'] == 'PRICE_FILTER':\n",
    "                tick_size = float(filters[f]['tickSize'])\n",
    "                found = True\n",
    "                break\n",
    "        break\n",
    "if found:\n",
    "    print(tick_size)        \n",
    "else:\n",
    "    print(f\"tick_size not found for {the_symbol}\")"
   ]
  },
  {
   "cell_type": "code",
   "execution_count": 10,
   "metadata": {
    "tags": []
   },
   "outputs": [],
   "source": [
    "#Stop loss LONG \n",
    "def open_sl_long(symbol,quantity):\n",
    "    try:\n",
    "\n",
    "        position=get_opened_positions(symbol)\n",
    "        entry_price=position[4]\n",
    "        stop_price_trigger=str(round(float(entry_price)*(1-stop_percent), 2))\n",
    "        stop_price=str(round(float(stop_price_trigger)*1.001, 1))\n",
    "        params = {\n",
    "            \"batchOrders\": [\n",
    "                {\n",
    "                    \"symbol\":symbol,\n",
    "                    \"side\": \"SELL\",\n",
    "                    \"positionSide\": \"LONG\",\n",
    "                    \"type\": \"STOP\",\n",
    "                    \"quantity\": quantity,\n",
    "                    \"timeInForce\":\"GTE_GTC\",\n",
    "                    \"tickSize\": \"0.1\",\n",
    "                    \"stopPrice\": stop_price_trigger,\n",
    "                    \"price\": stop_price\n",
    "                }\n",
    "            ]\n",
    "        }\n",
    "\n",
    "        open_position_sl_long_response=send_signed_request('POST', '/fapi/v1/batchOrders', params)\n",
    "        long_sl_opened=float(open_position_sl_long_response[0]['price'])\n",
    "        print('LONG sl order opened price:'+str(long_sl_opened))\n",
    "        return(long_sl_opened)\n",
    "    \n",
    "    except :\n",
    "        print('\\n\\nsl long not open...')\n",
    "        "
   ]
  },
  {
   "cell_type": "code",
   "execution_count": 11,
   "metadata": {
    "tags": []
   },
   "outputs": [],
   "source": [
    "#Take Profit LONG \n",
    "\n",
    "def open_tp_long(symbol,quantity):\n",
    "    try:\n",
    "\n",
    "        position=get_opened_positions(symbol)\n",
    "        entry_price=position[4]\n",
    "        take_price_trigger=str(round(float(entry_price)*(1+profit_percent), 2))\n",
    "        take_price=str(round(float(take_price_trigger)*1.001, 1))\n",
    "        params = {\n",
    "            \"batchOrders\": [\n",
    "                {\n",
    "                    \"symbol\":symbol,\n",
    "                    \"side\": \"SELL\",\n",
    "                    \"positionSide\": \"LONG\",\n",
    "                    \"type\": \"TAKE_PROFIT\",\n",
    "                    \"quantity\": quantity,\n",
    "                    \"timeInForce\":\"GTE_GTC\",\n",
    "                    \"tickSize\": \"0.1\",\n",
    "                    \"stopPrice\": take_price_trigger,\n",
    "                    \"price\": take_price\n",
    "                }\n",
    "            ]\n",
    "        }\n",
    "        open_position_tp_long_response=send_signed_request('POST', '/fapi/v1/batchOrders', params)\n",
    "        long_tp_opened=float(open_position_tp_long_response[0]['price'])\n",
    "        print('LONG tp order opened price:'+str(long_tp_opened))\n",
    "        return(long_tp_opened)\n",
    "        \n",
    "    except :\n",
    "        print('\\n\\nTP long not open...')"
   ]
  },
  {
   "cell_type": "code",
   "execution_count": 12,
   "metadata": {
    "tags": []
   },
   "outputs": [],
   "source": [
    "#Открыть позицию LONG \n",
    "\n",
    "def open_position_long(symbol,quantity):\n",
    "    sprice=get_symbol_price(symbol)\n",
    "    close_price=str(round(sprice*(1+0.005),1))\n",
    "    params = {\n",
    "        \"batchOrders\": [\n",
    "            {\n",
    "                \"symbol\":symbol,\n",
    "                \"side\": \"BUY\",\n",
    "                \"positionSide\": \"LONG\",\n",
    "                \"type\": \"LIMIT\",\n",
    "                \"quantity\": quantity,\n",
    "                \"timeInForce\":\"GTC\",\n",
    "                \"tickSize\": \"0.10\",\n",
    "                \"price\": close_price        \n",
    "            }\n",
    "        ]\n",
    "    }\n",
    "    open_position_long_response=send_signed_request('POST', '/fapi/v1/batchOrders', params)\n",
    "    long_opened=float(open_position_long_response[0]['price'])\n",
    "    print('LONG order opened price:'+str(long_opened))\n",
    "    return(long_opened)"
   ]
  },
  {
   "cell_type": "code",
   "execution_count": 13,
   "metadata": {},
   "outputs": [],
   "source": [
    "#Открыть sl&tp long если есть позиция\n",
    "\n",
    "def long_tp_sl_opening(symbol):\n",
    "    orders=client.futures_get_open_orders(symbol=symbol)\n",
    "    orders_df=pd.DataFrame(orders)\n",
    "    if orders_df.empty:\n",
    "        x = threading.Thread(target=open_tp_long, args=(symbol,quantity))\n",
    "        x.start()\n",
    "        y = threading.Thread(target=open_sl_long, args=(symbol,quantity))\n",
    "        y.start()\n",
    "    else:\n",
    "        order_long=orders_df[orders_df['positionSide']=='LONG']\n",
    "        long_tp=order_long[order_long['origType']=='TAKE_PROFIT']['price']\n",
    "        long_sl=order_long[order_long['origType']=='STOP']['price']\n",
    "        if (long_tp+long_sl).empty:\n",
    "            x = threading.Thread(target=open_tp_long, args=(symbol,quantity))\n",
    "            x.start()\n",
    "            y = threading.Thread(target=open_sl_long, args=(symbol,quantity))\n",
    "            y.start()\n",
    "        else:\n",
    "            print('LONG SL TP iteration continious..')"
   ]
  },
  {
   "cell_type": "code",
   "execution_count": 14,
   "metadata": {
    "tags": []
   },
   "outputs": [],
   "source": [
    "#Stop loss SHORT \n",
    "\n",
    "def open_sl_short(symbol,quantity):\n",
    "    try:\n",
    "        position=get_opened_positions(symbol)\n",
    "        entry_price=position[5]\n",
    "        stop_price_trigger=str(round(float(entry_price)*(1+stop_percent), 2))\n",
    "        stop_price=str(round(float(stop_price_trigger)*1.001, 1))\n",
    "        params = {\n",
    "            \"batchOrders\": [\n",
    "                {\n",
    "                    \"symbol\":symbol,\n",
    "                    \"side\": \"BUY\",\n",
    "                    \"positionSide\": \"SHORT\",\n",
    "                    \"type\": \"STOP\",\n",
    "                    \"quantity\": quantity,\n",
    "                    \"timeInForce\":\"GTE_GTC\",\n",
    "                    \"tickSize\": \"0.001\",\n",
    "                    \"stopPrice\": stop_price_trigger,\n",
    "                    \"price\": stop_price\n",
    "                }\n",
    "            ]\n",
    "        }\n",
    "        \n",
    "        open_position_sl_short_response=send_signed_request('POST', '/fapi/v1/batchOrders', params)\n",
    "        short_sl_opened=float(open_position_sl_short_response[0]['price'])\n",
    "        print('SHORT sl order opened price:'+str(short_sl_opened))\n",
    "        return(short_sl_opened)\n",
    "    \n",
    "    except :\n",
    "        print('\\n\\nSL short not open...')\n"
   ]
  },
  {
   "cell_type": "code",
   "execution_count": 15,
   "metadata": {
    "tags": []
   },
   "outputs": [],
   "source": [
    "#Take Profit SHORT\n",
    "\n",
    "def open_tp_short(symbol,quantity):\n",
    "    try:\n",
    "        position=get_opened_positions(symbol)\n",
    "        entry_price=position[5]\n",
    "        take_price_trigger=str(round(float(entry_price)*(1-profit_percent), 2))\n",
    "        take_price=str(round(float(take_price_trigger)*1.001, 1))\n",
    "        params = {\n",
    "            \"batchOrders\": [\n",
    "                {\n",
    "                    \"symbol\":symbol,\n",
    "                    \"side\": \"BUY\",\n",
    "                    \"positionSide\": \"SHORT\",\n",
    "                    \"type\": \"TAKE_PROFIT\",\n",
    "                    \"quantity\": quantity,\n",
    "                    \"timeInForce\":\"GTE_GTC\",\n",
    "                    \"tickSize\": \"0.01\",\n",
    "                    \"stopPrice\": take_price_trigger,\n",
    "                    \"price\": take_price\n",
    "                }\n",
    "            ]\n",
    "        }\n",
    "\n",
    "        open_position_tp_short_response=send_signed_request('POST', '/fapi/v1/batchOrders', params)\n",
    "        short_tp_opened=float(open_position_tp_short_response[0]['price'])\n",
    "        print('SHORT tp order opened price:'+str(short_tp_opened))\n",
    "        return(short_tp_opened)\n",
    "    \n",
    "    except :\n",
    "        print('\\n\\nTP short not open...')\n"
   ]
  },
  {
   "cell_type": "code",
   "execution_count": 16,
   "metadata": {
    "tags": []
   },
   "outputs": [],
   "source": [
    "#Открыть позицию SHORT\n",
    "\n",
    "def open_position_short(symbol,quantity):\n",
    "    sprice=get_symbol_price(symbol)\n",
    "    close_price=str(round(sprice*(1-0.001),1))\n",
    "    params = {\n",
    "        \"batchOrders\": [\n",
    "            {\n",
    "                \"symbol\":symbol,\n",
    "                \"side\": \"SELL\",\n",
    "                \"positionSide\": \"SHORT\",\n",
    "                \"type\": \"LIMIT\",\n",
    "                \"quantity\": quantity,\n",
    "                \"timeInForce\":\"GTC\",\n",
    "                \"tickSize\": \"0.10\",\n",
    "                \"price\": close_price        \n",
    "            }\n",
    "        ]\n",
    "    }\n",
    "    open_position_short_response=send_signed_request('POST', '/fapi/v1/batchOrders', params)\n",
    "    short_opened=float(open_position_short_response[0]['price'])\n",
    "    print('SHORT order opened price:'+str(short_opened))\n",
    "    return(short_opened)"
   ]
  },
  {
   "cell_type": "code",
   "execution_count": 17,
   "metadata": {},
   "outputs": [],
   "source": [
    "#Открыть sl&tp SHORT если есть позиция\n",
    "       \n",
    "def short_tp_sl_opening(symbol):\n",
    "    orders=client.futures_get_open_orders(symbol=symbol)\n",
    "    orders_df=pd.DataFrame(orders)\n",
    "    if orders_df.empty:\n",
    "        x = threading.Thread(target=open_tp_short, args=(symbol,quantity))\n",
    "        x.start()\n",
    "        y = threading.Thread(target=open_sl_short, args=(symbol,quantity))\n",
    "        y.start()\n",
    "    else:\n",
    "        order_short=orders_df[orders_df['positionSide']=='SHORT']\n",
    "        short_tp=order_short[order_short['origType']=='TAKE_PROFIT']['price']\n",
    "        short_sl=order_short[order_short['origType']=='STOP']['price']\n",
    "        if (short_tp+short_sl).empty:\n",
    "            x = threading.Thread(target=open_tp_short, args=(symbol,quantity))\n",
    "            x.start()\n",
    "            y = threading.Thread(target=open_sl_short, args=(symbol,quantity))\n",
    "            y.start()\n",
    "        else:\n",
    "            print('SHORT SL TP iteration continious..')"
   ]
  },
  {
   "cell_type": "code",
   "execution_count": 18,
   "metadata": {},
   "outputs": [],
   "source": [
    "def check_positions_new(symbol):\n",
    "    positions=get_opened_positions(symbol)\n",
    "    if positions[0]+positions[1]=='':\n",
    "        print('Start new positions')\n",
    "        x = threading.Thread(target=open_position_short, args=(symbol,quantity))\n",
    "        x.start()\n",
    "        y = threading.Thread(target=open_position_long, args=(symbol,quantity))\n",
    "        y.start()"
   ]
  },
  {
   "cell_type": "code",
   "execution_count": 19,
   "metadata": {},
   "outputs": [],
   "source": [
    "def check_positions_ready(symbol):\n",
    "    positions=get_opened_positions(symbol)\n",
    "    if positions[0]+positions[1]=='longshort':\n",
    "        print('Positions ready, sl&tp stage..')\n",
    "        x = threading.Thread(target=short_tp_sl_opening(symbol))\n",
    "        x.start()\n",
    "        y = threading.Thread(target=long_tp_sl_opening(symbol))\n",
    "        y.start()"
   ]
  },
  {
   "cell_type": "code",
   "execution_count": 20,
   "metadata": {},
   "outputs": [],
   "source": [
    "def main(step):\n",
    "\n",
    "    try:\n",
    "        x = threading.Thread(target=check_positions_new(symbol))\n",
    "        x.start()\n",
    "        y = threading.Thread(target=check_positions_ready(symbol))\n",
    "        y.start()\n",
    "    except :\n",
    "        print('\\n\\nSomething went wrong. Continuing...')"
   ]
  },
  {
   "cell_type": "code",
   "execution_count": 28,
   "metadata": {},
   "outputs": [
    {
     "name": "stdout",
     "output_type": "stream",
     "text": [
      "Positions ready, sl&tp stage..\n",
      "SHORT SL TP iteration continious..\n",
      "LONG SL TP iteration continious..\n"
     ]
    }
   ],
   "source": [
    "# main(3)"
   ]
  },
  {
   "cell_type": "code",
   "execution_count": 22,
   "metadata": {
    "tags": []
   },
   "outputs": [],
   "source": [
    "telegram_delay=12\n",
    "bot_token='5454990445:AAGzfeY80oeI-1su0MEIRVuvTzBYIVlZIXU'\n",
    "chat_id='92428939'\n",
    "\n",
    "def getTPSLfrom_telegram():\n",
    "    strr='https://api.telegram.org/bot'+bot_token+'/getUpdates'\n",
    "    response = requests.get(strr)\n",
    "    rs=response.json()\n",
    "    exit=0\n",
    "\n",
    "    if(len(rs['result'])>0):\n",
    "        rs2=rs['result'][-1]\n",
    "        rs3=rs2['message']\n",
    "        textt=rs3['text']\n",
    "        datet=rs3['date']        \n",
    "        if(time.time()-datet)<telegram_delay:\n",
    "            if 'exit' in textt:\n",
    "                exit=1\n",
    "                telegram_bot_sendtext('Right now! Sir')\n",
    "\n",
    "            # if 'close_pos' in textt:\n",
    "            #     position=get_opened_positions(symbol)\n",
    "            #     open_sl=position[0]\n",
    "            #     quantity=position[1]\n",
    "            #     print(open_sl,quantity)\n",
    "            #     close_position(symbol,open_sl,abs(quantity)) #abs - по модулю\n",
    "    return(exit)"
   ]
  },
  {
   "cell_type": "code",
   "execution_count": 23,
   "metadata": {},
   "outputs": [
    {
     "data": {
      "text/plain": [
       "0"
      ]
     },
     "execution_count": 23,
     "metadata": {},
     "output_type": "execute_result"
    }
   ],
   "source": [
    "getTPSLfrom_telegram()"
   ]
  },
  {
   "cell_type": "code",
   "execution_count": 24,
   "metadata": {},
   "outputs": [],
   "source": [
    "def telegram_bot_sendtext(bot_message):\n",
    "    bot_token2 = bot_token\n",
    "    bot_chatID = chat_id\n",
    "    send_text = 'https://api.telegram.org/bot' + bot_token2 + '/sendMessage?chat_id=' + bot_chatID + '&parse_mode=Markdown&text=' + bot_message\n",
    "    response = requests.get(send_text)\n",
    "    return response.json()"
   ]
  },
  {
   "cell_type": "code",
   "execution_count": 25,
   "metadata": {},
   "outputs": [],
   "source": [
    "def prt(message):\n",
    "    # telegram message\n",
    "    telegram_bot_sendtext(pointer+': '+message)\n",
    "    print(pointer+': '+message)"
   ]
  },
  {
   "cell_type": "code",
   "execution_count": 26,
   "metadata": {},
   "outputs": [],
   "source": [
    "def start_stop():\n",
    "    starttime=time.time()\n",
    "    counterr=1\n",
    "    timeout = time.time() + 60*60*12  # 60 seconds times 60 meaning the script will run for 12 hr\n",
    "        \n",
    "    while time.time() <= timeout:\n",
    "        try:\n",
    "\n",
    "            print(\"script continue running at \"+time.strftime('%Y-%m-%d %H:%M:%S', time.localtime(time.time())))\n",
    "            main(counterr)\n",
    "            counterr=counterr+1\n",
    "            stop=getTPSLfrom_telegram()\n",
    "            if stop==1:\n",
    "                break\n",
    "            if counterr>3:\n",
    "                break\n",
    "                #counterr=1\n",
    "            time.sleep(10 - ((time.time() - starttime) % 10.0)) # 1 minute interval between each new execution\n",
    "        except KeyboardInterrupt:\n",
    "            print('\\n\\KeyboardInterrupt. Stopping.')\n",
    "        "
   ]
  },
  {
   "cell_type": "code",
   "execution_count": 27,
   "metadata": {},
   "outputs": [
    {
     "name": "stdout",
     "output_type": "stream",
     "text": [
      "script continue running at 2022-10-05 15:27:56\n",
      "Start new positions\n",
      "SHORT order opened price:19812.8\n",
      "LONG order opened price:19931.8\n",
      "script continue running at 2022-10-05 15:28:06\n",
      "Positions ready, sl&tp stage..\n",
      "SHORT sl order opened price:20068.9\n",
      "SHORT tp order opened price:19438.8\n",
      "LONG tp order opened price:20241.3\n",
      "LONG sl order opened price:19611.0\n",
      "script continue running at 2022-10-05 15:28:16\n",
      "Positions ready, sl&tp stage..\n",
      "SHORT SL TP iteration continious..\n",
      "LONG SL TP iteration continious..\n"
     ]
    }
   ],
   "source": [
    "start_stop()"
   ]
  },
  {
   "cell_type": "code",
   "execution_count": null,
   "metadata": {},
   "outputs": [],
   "source": []
  }
 ],
 "metadata": {
  "kernelspec": {
   "display_name": "Python 3 (ipykernel)",
   "language": "python",
   "name": "python3"
  },
  "language_info": {
   "codemirror_mode": {
    "name": "ipython",
    "version": 3
   },
   "file_extension": ".py",
   "mimetype": "text/x-python",
   "name": "python",
   "nbconvert_exporter": "python",
   "pygments_lexer": "ipython3",
   "version": "3.9.12"
  }
 },
 "nbformat": 4,
 "nbformat_minor": 4
}
