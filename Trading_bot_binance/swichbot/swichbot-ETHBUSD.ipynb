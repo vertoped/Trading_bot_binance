{
 "cells": [
  {
   "cell_type": "code",
   "execution_count": 3,
   "metadata": {},
   "outputs": [],
   "source": [
    "import requests\n",
    "import numpy as np\n",
    "import pandas as pd\n",
    "import statsmodels.api as sm\n",
    "import matplotlib.pyplot as plt\n",
    "import copy\n",
    "import time\n",
    "import random\n",
    "import threading\n",
    "import coinconfig\n",
    "\n",
    "from binance import Client, ThreadedWebsocketManager, ThreadedDepthCacheManager\n",
    "from binance.helpers import round_step_size\n",
    "from futures_sign import send_signed_request, send_public_request\n",
    "from cred import KEY, SECRET"
   ]
  },
  {
   "cell_type": "code",
   "execution_count": 4,
   "metadata": {},
   "outputs": [],
   "source": [
    "#0:BTCBUSD, 1:BTCUSDT, 2:DOGEUSDT, 3:DOGEBUSD, 4:ETHBUSD, 5:ETHUSDT, 6:EOSUSDT, 7:LTCUSDT, 8:BNBBUSD"
   ]
  },
  {
   "cell_type": "code",
   "execution_count": 5,
   "metadata": {},
   "outputs": [],
   "source": [
    "client = Client(KEY, SECRET, testnet=False)\n",
    "config=coinconfig.tradeconfig\n",
    "coin=coinconfig.coinlist[4]"
   ]
  },
  {
   "cell_type": "code",
   "execution_count": 6,
   "metadata": {},
   "outputs": [],
   "source": [
    "symbol=coin[\"symbol\"]\n",
    "asset=coin[\"asset\"]\n",
    "recvWindow=config[\"recvWindow\"]\n",
    "dualSidePosition=config[\"dualSidePosition\"]\n",
    "marginType=config[\"marginType\"]\n",
    "\n",
    "leverage=coin[\"leverage\"]\n",
    "roundity=coin[\"roundity\"]\n",
    "profit_percent=coin[\"profit_percent\"]\n",
    "diference=coin[\"diference\"]\n",
    "stop_percent=profit_percent+diference\n",
    "balance_part=coin[\"balance_part\"]\n",
    "compensation=coin[\"compensation\"]\n",
    "ingebit=coin[\"ingebit\"]\n"
   ]
  },
  {
   "cell_type": "code",
   "execution_count": 12,
   "metadata": {},
   "outputs": [],
   "source": [
    "def order_clean(symbol):\n",
    "    orders=client.futures_get_open_orders(symbol=symbol)\n",
    "    orders_df=pd.DataFrame(orders)\n",
    "    orders_tp_number=len(orders_df[orders_df['origType']=='STOP'])\n",
    "    return(orders_tp_number)"
   ]
  },
  {
   "cell_type": "code",
   "execution_count": 32,
   "metadata": {},
   "outputs": [
    {
     "name": "stdout",
     "output_type": "stream",
     "text": [
      "Nothing to clear\n"
     ]
    }
   ],
   "source": [
    "orders=client.futures_get_open_orders(symbol=symbol)\n",
    "orders_df=pd.DataFrame(orders)\n",
    "orders_sl=orders_df[orders_df['origType']=='STOP']\n",
    "if len(orders_sl) > 6:\n",
    "    orders_sl_short=orders_sl[orders_sl['positionSide']=='SHORT']\n",
    "    orders_sl_long=orders_sl[orders_sl['positionSide']=='LONG']\n",
    "    if len(orders_sl_short) > 3:\n",
    "        ids = orders_df[orders_df['origType']=='STOP']['orderId'][-3]\n",
    "        client.futures_cancel_orders(\n",
    "            symbol=\"BTCUSDT\", origClientOrderIdList=idsString\n",
    "        )\n",
    "    if len(orders_sl_long) > 3:\n",
    "        ids = orders_df[orders_df['origType']=='STOP']['orderId'][-3]\n",
    "        client.futures_cancel_orders(\n",
    "            symbol=\"BTCUSDT\", origClientOrderIdList=idsString\n",
    "        )\n",
    "else:\n",
    "    print('Nothing to clear')"
   ]
  },
  {
   "cell_type": "code",
   "execution_count": 5,
   "metadata": {
    "tags": []
   },
   "outputs": [
    {
     "data": {
      "text/plain": [
       "{'symbol': 'ETHBUSD', 'leverage': 50, 'maxNotionalValue': '50000'}"
      ]
     },
     "execution_count": 5,
     "metadata": {},
     "output_type": "execute_result"
    }
   ],
   "source": [
    "client.futures_change_leverage(symbol=symbol, leverage=leverage, recvWindow=recvWindow)"
   ]
  },
  {
   "cell_type": "code",
   "execution_count": 6,
   "metadata": {
    "tags": []
   },
   "outputs": [],
   "source": [
    "# Margin type\n",
    "def margin_type_to_isolated():\n",
    "    status = client.futures_account()\n",
    "    positions=pd.DataFrame(status['positions'])\n",
    "    body=positions[positions['symbol']==symbol]['isolated'].astype(bool).tolist()[0]\n",
    "\n",
    "    if body==True:\n",
    "        client.futures_change_margin_type(symbol=symbol, marginType=marginType, recvWindow=recvWindow)\n",
    "        print(f'Changed to {marginType}')\n",
    "    else:\n",
    "        print(f'Already {marginType}')"
   ]
  },
  {
   "cell_type": "code",
   "execution_count": 7,
   "metadata": {
    "tags": []
   },
   "outputs": [
    {
     "name": "stdout",
     "output_type": "stream",
     "text": [
      "Already CROSSED\n"
     ]
    }
   ],
   "source": [
    "margin_type_to_isolated()"
   ]
  },
  {
   "cell_type": "code",
   "execution_count": 8,
   "metadata": {
    "tags": []
   },
   "outputs": [],
   "source": [
    "# Hedge mode turn on\n",
    "\n",
    "def hedge_mode_turn_on():\n",
    "    status=client.futures_get_position_mode() \n",
    "    if status['dualSidePosition']==False:\n",
    "        client.futures_change_position_mode(dualSidePosition=dualSidePosition, recvWindow=recvWindow)\n",
    "        client.futures_get_position_mode()\n",
    "        print('Dual turned on')\n",
    "    else:\n",
    "        print('Already Dual')\n",
    "    return(status['dualSidePosition'])"
   ]
  },
  {
   "cell_type": "code",
   "execution_count": 9,
   "metadata": {},
   "outputs": [
    {
     "name": "stdout",
     "output_type": "stream",
     "text": [
      "Already Dual\n"
     ]
    },
    {
     "data": {
      "text/plain": [
       "True"
      ]
     },
     "execution_count": 9,
     "metadata": {},
     "output_type": "execute_result"
    }
   ],
   "source": [
    "hedge_mode_turn_on()"
   ]
  },
  {
   "cell_type": "code",
   "execution_count": 10,
   "metadata": {},
   "outputs": [],
   "source": [
    "def get_assetbalance(symbol):\n",
    "    status = client.futures_account()\n",
    "    balance = pd.DataFrame(status['assets'])\n",
    "    assetbalance = float(balance.loc[balance['asset'] == asset, 'availableBalance'])\n",
    "    return(assetbalance)"
   ]
  },
  {
   "cell_type": "code",
   "execution_count": 11,
   "metadata": {
    "tags": []
   },
   "outputs": [],
   "source": [
    "# Find all opened positions\n",
    "\n",
    "def get_opened_positions(symbol):\n",
    "    status = client.futures_account()\n",
    "    positions=pd.DataFrame(status['positions'])\n",
    "    open_positions=positions[positions['symbol']==symbol]\n",
    "    position_long=float(open_positions[open_positions['positionSide']=='LONG']['entryPrice'])\n",
    "    if position_long>0:\n",
    "        position=position_long\n",
    "    else:\n",
    "        position=float(open_positions[open_positions['positionSide']=='SHORT']['entryPrice'])\n",
    "    return(position)"
   ]
  },
  {
   "cell_type": "code",
   "execution_count": 12,
   "metadata": {},
   "outputs": [
    {
     "data": {
      "text/plain": [
       "0.0"
      ]
     },
     "execution_count": 12,
     "metadata": {},
     "output_type": "execute_result"
    }
   ],
   "source": [
    "get_opened_positions(symbol)"
   ]
  },
  {
   "cell_type": "code",
   "execution_count": 13,
   "metadata": {
    "tags": []
   },
   "outputs": [],
   "source": [
    "# Close all orders \n",
    "\n",
    "def check_and_close_orders(symbol):\n",
    "    global isStop \n",
    "    a=client.futures_get_open_orders(symbol=symbol)\n",
    "    if len(a)>0:\n",
    "        isStop = False\n",
    "        client.futures_cancel_all_open_orders(symbol=symbol)"
   ]
  },
  {
   "cell_type": "code",
   "execution_count": 14,
   "metadata": {
    "tags": []
   },
   "outputs": [],
   "source": [
    "def get_symbol_price(symbol):\n",
    "    prices = client.get_all_tickers()\n",
    "    df=pd.DataFrame(prices)\n",
    "    return float(df[ df['symbol']==symbol]['price'])"
   ]
  },
  {
   "cell_type": "code",
   "execution_count": 15,
   "metadata": {},
   "outputs": [
    {
     "data": {
      "text/plain": [
       "1318.28"
      ]
     },
     "execution_count": 15,
     "metadata": {},
     "output_type": "execute_result"
    }
   ],
   "source": [
    "get_symbol_price(symbol)"
   ]
  },
  {
   "cell_type": "code",
   "execution_count": 16,
   "metadata": {
    "tags": []
   },
   "outputs": [],
   "source": [
    "#получить tick size\n",
    "\n",
    "def get_tick_size(symbol):\n",
    "    data = client.futures_exchange_info()\n",
    "    tick_size = 0.0\n",
    "    the_symbol = symbol\n",
    "\n",
    "    found = False\n",
    "    info = data['symbols']\n",
    "    for s in range(len(info)):\n",
    "        if info[s]['symbol'] == the_symbol:\n",
    "            filters = info[s]['filters']\n",
    "            for f in range(len(filters)):\n",
    "                if filters[f]['filterType'] == 'PRICE_FILTER':\n",
    "                    tick_size = float(filters[f]['tickSize'])\n",
    "                    found = True\n",
    "                    break\n",
    "            break\n",
    "    return(tick_size)"
   ]
  },
  {
   "cell_type": "code",
   "execution_count": 17,
   "metadata": {},
   "outputs": [
    {
     "data": {
      "text/plain": [
       "'0.017'"
      ]
     },
     "execution_count": 17,
     "metadata": {},
     "output_type": "execute_result"
    }
   ],
   "source": [
    "#Trade config\n",
    "\n",
    "# maxposition=0.016 #1 = 100% = 1 BTC,\n",
    "asset_balance=get_assetbalance(symbol)\n",
    "symbol_price=get_symbol_price(symbol)\n",
    "maxposition=round(asset_balance*balance_part*leverage/symbol_price,3)\n",
    "quantity=str(round(maxposition/2,roundity))\n",
    "tick_size=get_tick_size(symbol)\n",
    "symbolround=abs(str(tick_size).find('.') - len(str(tick_size))) - 1\n",
    "quantity"
   ]
  },
  {
   "cell_type": "code",
   "execution_count": 18,
   "metadata": {
    "tags": []
   },
   "outputs": [],
   "source": [
    "#Stop loss LONG \n",
    "def open_sl_long(symbol,quant,tick_size,stop_percent):\n",
    "    try:\n",
    "        entry_price=get_opened_positions(symbol)\n",
    "        stop_price_trigger=str(round(float(entry_price)*(1-stop_percent), symbolround))\n",
    "        stop_price=str(round(float(stop_price_trigger)*0.9999, symbolround))\n",
    "        tick=str(tick_size)\n",
    "        params = {\n",
    "            \"batchOrders\": [\n",
    "                {\n",
    "                    \"symbol\":symbol,\n",
    "                    \"side\": \"SELL\",\n",
    "                    \"positionSide\": \"LONG\",\n",
    "                    \"type\": \"STOP\",\n",
    "                    \"quantity\": quant,\n",
    "                    \"timeInForce\":\"GTE_GTC\",\n",
    "                    \"tickSize\": tick,\n",
    "                    \"stopPrice\": stop_price_trigger,\n",
    "                    \"price\": stop_price\n",
    "                }\n",
    "            ]\n",
    "        }\n",
    "\n",
    "        open_position_sl_long_response=send_signed_request('POST', '/fapi/v1/batchOrders', params)\n",
    "        long_sl_opened=float(open_position_sl_long_response[0]['price'])\n",
    "        print('LONG sl order opened price:'+str(long_sl_opened))\n",
    "        return(long_sl_opened)\n",
    "    \n",
    "    except :\n",
    "        print('\\n\\nSL long not open...')\n",
    "        "
   ]
  },
  {
   "cell_type": "code",
   "execution_count": 19,
   "metadata": {
    "tags": []
   },
   "outputs": [],
   "source": [
    "#Take Profit LONG \n",
    "\n",
    "def open_tp_long(symbol,quant,tick_size,profit_percent):\n",
    "    try:\n",
    "        entry_price=get_opened_positions(symbol)\n",
    "        take_price_trigger=str(round(float(entry_price)*(1+profit_percent), symbolround))\n",
    "        take_price=str(round(float(take_price_trigger)*0.9999, symbolround))\n",
    "        tick=str(tick_size)\n",
    "        params = {\n",
    "            \"batchOrders\": [\n",
    "                {\n",
    "                    \"symbol\":symbol,\n",
    "                    \"side\": \"SELL\",\n",
    "                    \"positionSide\": \"LONG\",\n",
    "                    \"type\": \"TAKE_PROFIT\",\n",
    "                    \"quantity\": quant,\n",
    "                    \"timeInForce\":\"GTE_GTC\",\n",
    "                    \"tickSize\": tick,\n",
    "                    \"stopPrice\": take_price_trigger,\n",
    "                    \"price\": take_price\n",
    "                }\n",
    "            ]\n",
    "        }\n",
    "        open_position_tp_long_response=send_signed_request('POST', '/fapi/v1/batchOrders', params)\n",
    "        long_tp_opened=float(open_position_tp_long_response[0]['price'])\n",
    "        print('LONG tp order opened price:'+str(long_tp_opened))\n",
    "        return(long_tp_opened)\n",
    "        \n",
    "    except :\n",
    "        print('\\n\\nTP long not open...')\n",
    "    return(profit_percent,stop_percent)"
   ]
  },
  {
   "cell_type": "code",
   "execution_count": 20,
   "metadata": {},
   "outputs": [],
   "source": [
    "#Открыть sl&tp LONG если есть позиция\n",
    "\n",
    "def long_tp_sl_opening(symbol,quant,profit_percent,stop_percent):\n",
    "    orders=client.futures_get_open_orders(symbol=symbol)\n",
    "    orders_df=pd.DataFrame(orders)\n",
    "    if orders_df.empty:\n",
    "        x = threading.Thread(target=open_tp_long, args=(symbol,quant,tick_size,profit_percent))\n",
    "        x.start()\n",
    "        y = threading.Thread(target=open_sl_long, args=(symbol,quant,tick_size,stop_percent))\n",
    "        y.start()\n",
    "    else:\n",
    "        print('LONG SL TP iteration continious..')\n",
    "    return(profit_percent,stop_percent)"
   ]
  },
  {
   "cell_type": "code",
   "execution_count": 21,
   "metadata": {
    "tags": []
   },
   "outputs": [],
   "source": [
    "#Открыть позицию LONG \n",
    "\n",
    "def open_position_long(symbol,quantity,tick_size,profit_percent,stop_percent):\n",
    "    sprice=get_symbol_price(symbol)\n",
    "    close_price=str(round(sprice*(1+0.002),symbolround))\n",
    "    tick=str(tick_size)\n",
    "    params = {\n",
    "        \"batchOrders\": [\n",
    "            {\n",
    "                \"symbol\":symbol,\n",
    "                \"side\": \"BUY\",\n",
    "                \"positionSide\": \"LONG\",\n",
    "                \"type\": \"LIMIT\",\n",
    "                \"quantity\": quantity,\n",
    "                \"timeInForce\":\"GTC\",\n",
    "                \"tickSize\": tick,\n",
    "                \"price\": close_price        \n",
    "            }\n",
    "        ]\n",
    "    }\n",
    "    open_position_long_response=send_signed_request('POST', '/fapi/v1/batchOrders', params)\n",
    "    long_opened=float(open_position_long_response[0]['price'])\n",
    "    print('LONG order opened price:'+str(long_opened))\n",
    "    if long_opened>0:\n",
    "        long_tp_sl=long_tp_sl_opening(symbol,quantity,profit_percent,stop_percent)\n",
    "    return(long_opened)"
   ]
  },
  {
   "cell_type": "code",
   "execution_count": 22,
   "metadata": {
    "tags": []
   },
   "outputs": [],
   "source": [
    "#Stop loss SHORT \n",
    "\n",
    "def open_sl_short(symbol,quant,tick_size,stop_percent):\n",
    "    try:\n",
    "        entry_price=get_opened_positions(symbol)\n",
    "        stop_price_trigger=str(round(float(entry_price)*(1+stop_percent), symbolround))\n",
    "        stop_price=str(round(float(stop_price_trigger)*1.0001, symbolround))\n",
    "        tick=str(tick_size)\n",
    "        params = {\n",
    "            \"batchOrders\": [\n",
    "                {\n",
    "                    \"symbol\":symbol,\n",
    "                    \"side\": \"BUY\",\n",
    "                    \"positionSide\": \"SHORT\",\n",
    "                    \"type\": \"STOP\",\n",
    "                    \"quantity\": quant,\n",
    "                    \"timeInForce\":\"GTE_GTC\",\n",
    "                    \"tickSize\": tick,\n",
    "                    \"stopPrice\": stop_price_trigger,\n",
    "                    \"price\": stop_price\n",
    "                }\n",
    "            ]\n",
    "        }\n",
    "        \n",
    "        open_position_sl_short_response=send_signed_request('POST', '/fapi/v1/batchOrders', params)\n",
    "        short_sl_opened=float(open_position_sl_short_response[0]['price'])\n",
    "        print('SHORT sl order opened price:'+str(short_sl_opened))\n",
    "        return(short_sl_opened)\n",
    "    \n",
    "    except :\n",
    "        print('\\n\\nSL short not open...')\n"
   ]
  },
  {
   "cell_type": "code",
   "execution_count": 23,
   "metadata": {
    "tags": []
   },
   "outputs": [],
   "source": [
    "#Take Profit SHORT\n",
    "\n",
    "def open_tp_short(symbol,quant,tick_size,profit_percent):\n",
    "    try:\n",
    "        entry_price=get_opened_positions(symbol)\n",
    "        take_price_trigger=str(round(float(entry_price)*(1-profit_percent), symbolround))\n",
    "        take_price=str(round(float(take_price_trigger)*1.0001, symbolround))\n",
    "        tick=str(tick_size)\n",
    "        params = {\n",
    "            \"batchOrders\": [\n",
    "                {\n",
    "                    \"symbol\":symbol,\n",
    "                    \"side\": \"BUY\",\n",
    "                    \"positionSide\": \"SHORT\",\n",
    "                    \"type\": \"TAKE_PROFIT\",\n",
    "                    \"quantity\": quant,\n",
    "                    \"timeInForce\":\"GTE_GTC\",\n",
    "                    \"tickSize\": tick,\n",
    "                    \"stopPrice\": take_price_trigger,\n",
    "                    \"price\": take_price\n",
    "                }\n",
    "            ]\n",
    "        }\n",
    "\n",
    "        open_position_tp_short_response=send_signed_request('POST', '/fapi/v1/batchOrders', params)\n",
    "        short_tp_opened=float(open_position_tp_short_response[0]['price'])\n",
    "        print('SHORT tp order opened price:'+str(short_tp_opened))\n",
    "        return(short_tp_opened)\n",
    "    \n",
    "    except :\n",
    "        print('\\n\\nTp short not open...')\n"
   ]
  },
  {
   "cell_type": "code",
   "execution_count": 24,
   "metadata": {},
   "outputs": [],
   "source": [
    "#Открыть sl&tp SHORT если есть позиция\n",
    "       \n",
    "def short_tp_sl_opening(symbol,quant,profit_percent,stop_percent):\n",
    "    orders=client.futures_get_open_orders(symbol=symbol)\n",
    "    orders_df=pd.DataFrame(orders)\n",
    "    if orders_df.empty:\n",
    "        x = threading.Thread(target=open_tp_short, args=(symbol,quant,tick_size,profit_percent))\n",
    "        x.start()\n",
    "        y = threading.Thread(target=open_sl_short, args=(symbol,quant,tick_size,stop_percent))\n",
    "        y.start()\n",
    "    else:\n",
    "        print('SHORT SL TP iteration continious..')"
   ]
  },
  {
   "cell_type": "code",
   "execution_count": 25,
   "metadata": {
    "tags": []
   },
   "outputs": [],
   "source": [
    "#Открыть позицию SHORT\n",
    "\n",
    "def open_position_short(symbol,quantity,tick_size,profit_percent,stop_percent):\n",
    "    sprice=get_symbol_price(symbol)\n",
    "    close_price=str(round(sprice*(1-0.002),symbolround))\n",
    "    tick=str(tick_size)\n",
    "    params = {\n",
    "        \"batchOrders\": [\n",
    "            {\n",
    "                \"symbol\":symbol,\n",
    "                \"side\": \"SELL\",\n",
    "                \"positionSide\": \"SHORT\",\n",
    "                \"type\": \"LIMIT\",\n",
    "                \"quantity\": quantity,\n",
    "                \"timeInForce\":\"GTC\",\n",
    "                \"tickSize\": tick,\n",
    "                \"price\": close_price        \n",
    "            }\n",
    "        ]\n",
    "    }\n",
    "    open_position_short_response=send_signed_request('POST', '/fapi/v1/batchOrders', params)\n",
    "    short_opened=float(open_position_short_response[0]['price'])\n",
    "    print('SHORT order opened price:'+str(short_opened))\n",
    "    if short_opened>0:\n",
    "        short_tp_sl=short_tp_sl_opening(symbol,quantity,profit_percent,stop_percent)\n",
    "    return(short_opened)"
   ]
  },
  {
   "cell_type": "code",
   "execution_count": 26,
   "metadata": {},
   "outputs": [],
   "source": [
    "def get_profit(symbol):\n",
    "    trades = client.futures_account_trades(symbol=symbol)\n",
    "    dataset=pd.DataFrame(trades).iloc[-20:]\n",
    "    bnbcom=dataset[dataset['commissionAsset']=='BNB']['commission'].astype(float).sum()\n",
    "    busdcom=dataset[dataset['commissionAsset']==asset]['commission'].astype(float).sum()\n",
    "    com=(bnbcom*270+busdcom)*-1\n",
    "    real=dataset['realizedPnl'].astype(float).sum()\n",
    "    profit=float(com+real)\n",
    "    print(profit)"
   ]
  },
  {
   "cell_type": "code",
   "execution_count": 27,
   "metadata": {},
   "outputs": [
    {
     "name": "stdout",
     "output_type": "stream",
     "text": [
      "-0.1124243\n"
     ]
    },
    {
     "data": {
      "text/plain": [
       "(-0.03707, -0.0753543)"
      ]
     },
     "execution_count": 27,
     "metadata": {},
     "output_type": "execute_result"
    }
   ],
   "source": [
    "trades = client.futures_account_trades(symbol=symbol)\n",
    "dataset=pd.DataFrame(trades).iloc[-20:]\n",
    "bnbcom=dataset[dataset['commissionAsset']=='BNB']['commission'].astype(float).sum()\n",
    "busdcom=dataset[dataset['commissionAsset']==asset]['commission'].astype(float).sum()\n",
    "com=(bnbcom*270+busdcom)*-1\n",
    "real=dataset['realizedPnl'].astype(float).sum()\n",
    "profit=float(com+real)\n",
    "print(profit)\n",
    "real,com"
   ]
  },
  {
   "cell_type": "code",
   "execution_count": 28,
   "metadata": {},
   "outputs": [
    {
     "name": "stdout",
     "output_type": "stream",
     "text": [
      "-0.1124243\n"
     ]
    }
   ],
   "source": [
    "get_profit(symbol)"
   ]
  },
  {
   "cell_type": "code",
   "execution_count": 29,
   "metadata": {},
   "outputs": [],
   "source": [
    "def get_direction(symbol):\n",
    "    trades = client.futures_account_trades(symbol=symbol)[-1:]\n",
    "    dataset = pd.DataFrame(trades)\n",
    "    resdata = float(dataset['realizedPnl'])\n",
    "    direction=1\n",
    "    if resdata < 0:\n",
    "        direction=0\n",
    "    return(direction)"
   ]
  },
  {
   "cell_type": "code",
   "execution_count": 30,
   "metadata": {},
   "outputs": [
    {
     "data": {
      "text/plain": [
       "1"
      ]
     },
     "execution_count": 30,
     "metadata": {},
     "output_type": "execute_result"
    }
   ],
   "source": [
    "get_direction(symbol)"
   ]
  },
  {
   "cell_type": "code",
   "execution_count": 31,
   "metadata": {},
   "outputs": [
    {
     "data": {
      "text/plain": [
       "'0.009'"
      ]
     },
     "execution_count": 31,
     "metadata": {},
     "output_type": "execute_result"
    }
   ],
   "source": [
    "str(round(float(quantity)/ingebit,roundity))"
   ]
  },
  {
   "cell_type": "code",
   "execution_count": 32,
   "metadata": {},
   "outputs": [],
   "source": [
    "def changer(symbol):\n",
    "    direction=get_direction(symbol)\n",
    "    f = open(\"directdoc.txt\", \"r\")\n",
    "    direc=f.read()\n",
    "    stop=stop_percent/ingebit\n",
    "    profit=profit_percent/ingebit\n",
    "    if direction==0: #реверс\n",
    "        if direc=='0':\n",
    "            open_position_long(symbol,str(round(float(quantity)/ingebit,roundity)),tick_size,profit,profit)\n",
    "            f = open(\"directdoc.txt\", \"w\")\n",
    "            f.write(\"1\")\n",
    "            f.close()\n",
    "            print('Direction switched from SHORT to LONG')\n",
    "        else:\n",
    "            open_position_short(symbol,str(round(float(quantity)/ingebit,roundity)),tick_size,profit,profit)\n",
    "            print('Direction switched from LONG to SHORT')\n",
    "            f = open(\"directdoc.txt\", \"w\")\n",
    "            f.write(\"0\")\n",
    "            f.close()\n",
    "    else: #не меняем\n",
    "        if direc=='0':\n",
    "            target=open_position_short(symbol,quantity,tick_size,profit,stop)\n",
    "            print('Direction SHORT again')\n",
    "            f = open(\"directdoc.txt\", \"w\")\n",
    "            f.write(\"00\")\n",
    "            f.close()\n",
    "        if direc=='1':\n",
    "            target=open_position_long(symbol,quantity,tick_size,profit,stop)\n",
    "            print('Direction LONG again')\n",
    "            f = open(\"directdoc.txt\", \"w\")\n",
    "            f.write(\"10\")\n",
    "            f.close()\n",
    "        if direc=='00':\n",
    "            quant=str(round(float(quantity)*ingebit,roundity))\n",
    "            target=open_position_short(symbol,quant,tick_size,profit,stop)\n",
    "            print('Double SHORT again')\n",
    "            f = open(\"directdoc.txt\", \"w\")\n",
    "            f.write(\"0\")\n",
    "            f.close()\n",
    "        if direc=='10':\n",
    "            quant=str(round(float(quantity)*ingebit,roundity))\n",
    "            target=open_position_long(symbol,quant,tick_size,profit,stop)\n",
    "            print('Double LONG again')\n",
    "            f = open(\"directdoc.txt\", \"w\")\n",
    "            f.write(\"1\")\n",
    "            f.close()"
   ]
  },
  {
   "cell_type": "code",
   "execution_count": 33,
   "metadata": {},
   "outputs": [],
   "source": [
    "def check_positions_new(symbol):\n",
    "    positions=get_opened_positions(symbol)\n",
    "    if positions==0:\n",
    "        orders=client.futures_get_open_orders(symbol=symbol)\n",
    "        orders_df=pd.DataFrame(orders)\n",
    "        if orders_df.empty:\n",
    "            changer(symbol)"
   ]
  },
  {
   "cell_type": "code",
   "execution_count": 34,
   "metadata": {},
   "outputs": [],
   "source": [
    "def main(step):\n",
    "    #getTPSLfrom_telegram()\n",
    "    try:\n",
    "        x = threading.Thread(target=check_positions_new(symbol))\n",
    "        x.start()\n",
    "        y = threading.Thread(target=get_profit(symbol))\n",
    "        y.start()   \n",
    "    except :\n",
    "        print('\\n\\nSomething went wrong. Continuing...')"
   ]
  },
  {
   "cell_type": "code",
   "execution_count": 35,
   "metadata": {
    "tags": []
   },
   "outputs": [],
   "source": [
    "telegram_delay=12\n",
    "bot_token='5454990445:AAGzfeY80oeI-1su0MEIRVuvTzBYIVlZIXU'\n",
    "chat_id='92428939'\n",
    "\n",
    "def getTPSLfrom_telegram():\n",
    "    strr='https://api.telegram.org/bot'+bot_token+'/getUpdates'\n",
    "    response = requests.get(strr)\n",
    "    rs=response.json()\n",
    "    exit=0\n",
    "\n",
    "    if(len(rs['result'])>0):\n",
    "        rs2=rs['result'][-1]\n",
    "        rs3=rs2['message']\n",
    "        textt=rs3['text']\n",
    "        datet=rs3['date']        \n",
    "        if(time.time()-datet)<telegram_delay:\n",
    "            if 'exit' in textt:\n",
    "                exit=1\n",
    "                telegram_bot_sendtext('Right now! Sir')\n",
    "            if 'profit' in textt:\n",
    "                trades = client.futures_account_trades(symbol=symbol)\n",
    "                dataset=pd.DataFrame(trades).iloc[-50:]\n",
    "                bnbdata=dataset[dataset['commissionAsset']=='BNB']\n",
    "                busddata=dataset[dataset['commissionAsset']==asset]\n",
    "                bnbcom=bnbdata['commission'].astype(float).sum()\n",
    "                busdcom=busddata['commission'].astype(float).sum()\n",
    "                com=(bnbcom*270+busdcom)*-1\n",
    "                real=dataset['realizedPnl'].astype(float).sum()\n",
    "                profit=com+real\n",
    "                telegram_bot_sendtext('Profit = ' + str(profit))\n",
    "\n",
    "    return(exit)"
   ]
  },
  {
   "cell_type": "code",
   "execution_count": 36,
   "metadata": {},
   "outputs": [],
   "source": [
    "def telegram_bot_sendtext(bot_message):\n",
    "    bot_token2 = bot_token\n",
    "    bot_chatID = chat_id\n",
    "    send_text = 'https://api.telegram.org/bot' + bot_token2 + '/sendMessage?chat_id=' + bot_chatID + '&parse_mode=Markdown&text=' + bot_message\n",
    "    response = requests.get(send_text)\n",
    "    return response.json()"
   ]
  },
  {
   "cell_type": "code",
   "execution_count": 37,
   "metadata": {},
   "outputs": [],
   "source": [
    "def prt(message):\n",
    "    # telegram message\n",
    "    telegram_bot_sendtext(pointer+': '+message)\n",
    "    print(pointer+': '+message)"
   ]
  },
  {
   "cell_type": "code",
   "execution_count": 38,
   "metadata": {},
   "outputs": [],
   "source": [
    "def start_stop():\n",
    "    starttime=time.time()\n",
    "    counterr=1\n",
    "    timeout = time.time() + 60*60*6  # 60 seconds times 60 meaning the script will run for 12 hr\n",
    "    while time.time() <= timeout:\n",
    "        try:\n",
    "\n",
    "            print(\"script continue running at \"+time.strftime('%Y-%m-%d %H:%M:%S', time.localtime(time.time())))\n",
    "            main(counterr)\n",
    "            counterr=counterr+1\n",
    "            # stop=getTPSLfrom_telegram()\n",
    "            # if stop==1:\n",
    "            #     break\n",
    "            if counterr>3:\n",
    "                # break\n",
    "                counterr=1\n",
    "            time.sleep(5 - ((time.time() - starttime) % 5.0)) # 1 minute interval between each new execution\n",
    "        except KeyboardInterrupt:\n",
    "            print('\\n\\KeyboardInterrupt. Stopping.')\n",
    "        "
   ]
  },
  {
   "cell_type": "code",
   "execution_count": null,
   "metadata": {},
   "outputs": [
    {
     "name": "stdout",
     "output_type": "stream",
     "text": [
      "script continue running at 2022-11-10 22:37:00\n",
      "LONG order opened price:1321.36\n",
      "Double LONG again\n",
      "LONG sl order opened price:1316.12\n",
      "-0.12965749999999998\n",
      "LONG tp order opened price:1318.76\n",
      "script continue running at 2022-11-10 22:37:05\n",
      "-0.12965749999999998\n",
      "script continue running at 2022-11-10 22:37:10\n",
      "-0.12965749999999998\n",
      "script continue running at 2022-11-10 22:37:15\n",
      "-0.12965749999999998\n",
      "script continue running at 2022-11-10 22:37:20\n",
      "-0.12965749999999998\n",
      "script continue running at 2022-11-10 22:37:25\n",
      "-0.12965749999999998\n",
      "script continue running at 2022-11-10 22:37:30\n",
      "-0.12965749999999998\n",
      "script continue running at 2022-11-10 22:37:35\n",
      "-0.12965749999999998\n",
      "script continue running at 2022-11-10 22:37:40\n",
      "-0.12965749999999998\n",
      "script continue running at 2022-11-10 22:37:45\n",
      "LONG order opened price:1321.87\n",
      "Direction LONG again\n",
      "-0.1256699\n",
      "\n",
      "\n",
      "TP long not open...\n",
      "LONG sl order opened price:1316.93\n",
      "script continue running at 2022-11-10 22:37:50\n",
      "-0.1256699\n",
      "script continue running at 2022-11-10 22:37:55\n",
      "-0.1256699\n",
      "script continue running at 2022-11-10 22:38:00\n",
      "LONG order opened price:1325.62\n",
      "Direction LONG again\n",
      "LONG tp order opened price:1323.87\n",
      "-0.010083599999999998\n",
      "LONG sl order opened price:1321.23\n",
      "script continue running at 2022-11-10 22:38:05\n",
      "-0.010083599999999998\n",
      "script continue running at 2022-11-10 22:38:10\n",
      "-0.017728100000000004\n",
      "script continue running at 2022-11-10 22:38:15\n",
      "SHORT order opened price:1319.21\n",
      "Direction switched from LONG to SHORT\n",
      "-0.049796300000000016\n",
      "SHORT tp order opened price:1320.41\n",
      "SHORT sl order opened price:1322.39\n",
      "script continue running at 2022-11-10 22:38:20\n",
      "-0.049796300000000016\n",
      "script continue running at 2022-11-10 22:38:25\n",
      "-0.049796300000000016\n",
      "script continue running at 2022-11-10 22:38:30\n",
      "SHORT order opened price:1317.95\n",
      "Direction SHORT again\n",
      "SHORT sl order opened price:1321.41\n",
      "SHORT tp order opened price:1318.77\n",
      "-0.01369339999999998\n",
      "script continue running at 2022-11-10 22:38:35\n",
      "-0.01369339999999998\n",
      "script continue running at 2022-11-10 22:38:40\n",
      "-0.01369339999999998\n",
      "script continue running at 2022-11-10 22:38:45\n",
      "-0.01369339999999998\n",
      "script continue running at 2022-11-10 22:38:50\n",
      "-0.01369339999999998\n",
      "script continue running at 2022-11-10 22:38:55\n",
      "-0.01369339999999998\n",
      "script continue running at 2022-11-10 22:39:00\n",
      "-0.01369339999999998\n",
      "script continue running at 2022-11-10 22:39:05\n",
      "-0.01369339999999998\n",
      "script continue running at 2022-11-10 22:39:10\n",
      "-0.01369339999999998\n",
      "script continue running at 2022-11-10 22:39:15\n",
      "-0.01369339999999998\n",
      "script continue running at 2022-11-10 22:39:20\n",
      "-0.01369339999999998\n",
      "script continue running at 2022-11-10 22:39:25\n",
      "SHORT order opened price:1318.42\n",
      "Direction switched from LONG to SHORT\n",
      "-0.03656339999999999\n",
      "SHORT sl order opened price:1321.74\n",
      "SHORT tp order opened price:1319.76\n",
      "script continue running at 2022-11-10 22:39:30\n",
      "-0.03656339999999999\n",
      "script continue running at 2022-11-10 22:39:35\n",
      "-0.03656339999999999\n",
      "script continue running at 2022-11-10 22:39:40\n",
      "-0.03656339999999999\n",
      "script continue running at 2022-11-10 22:39:45\n",
      "-0.03656339999999999\n",
      "script continue running at 2022-11-10 22:39:50\n",
      "-0.03656339999999999\n",
      "script continue running at 2022-11-10 22:39:55\n",
      "-0.03656339999999999\n",
      "script continue running at 2022-11-10 22:40:00\n",
      "-0.03656339999999999\n",
      "script continue running at 2022-11-10 22:40:05\n",
      "-0.03656339999999999\n",
      "script continue running at 2022-11-10 22:40:10\n",
      "-0.03656339999999999\n",
      "script continue running at 2022-11-10 22:40:15\n",
      "-0.03656339999999999\n",
      "script continue running at 2022-11-10 22:40:20\n",
      "-0.03656339999999999\n",
      "script continue running at 2022-11-10 22:40:25\n",
      "-0.03656339999999999\n",
      "script continue running at 2022-11-10 22:40:30\n",
      "-0.03656339999999999\n",
      "script continue running at 2022-11-10 22:40:35\n",
      "-0.03656339999999999\n",
      "script continue running at 2022-11-10 22:40:40\n",
      "-0.03656339999999999\n",
      "script continue running at 2022-11-10 22:40:45\n",
      "-0.03656339999999999\n",
      "script continue running at 2022-11-10 22:40:50\n",
      "-0.03656339999999999\n",
      "script continue running at 2022-11-10 22:40:55\n",
      "-0.03656339999999999\n",
      "script continue running at 2022-11-10 22:41:00\n",
      "-0.03656339999999999\n",
      "script continue running at 2022-11-10 22:41:05\n",
      "-0.03656339999999999\n",
      "script continue running at 2022-11-10 22:41:10\n",
      "-0.03656339999999999\n",
      "script continue running at 2022-11-10 22:41:15\n",
      "SHORT order opened price:1319.56\n",
      "Direction switched from LONG to SHORT\n",
      "-0.02185029999999997\n",
      "SHORT tp order opened price:1320.39\n",
      "SHORT sl order opened price:1322.37\n",
      "script continue running at 2022-11-10 22:41:20\n",
      "-0.02185029999999997\n",
      "script continue running at 2022-11-10 22:41:25\n",
      "-0.02185029999999997\n",
      "script continue running at 2022-11-10 22:41:30\n",
      "SHORT order opened price:1318.79\n",
      "Double SHORT again\n",
      "-0.033311799999999996\n",
      "SHORT sl order opened price:1322.36\n",
      "SHORT tp order opened price:1319.72\n",
      "script continue running at 2022-11-10 22:41:35\n",
      "-0.033311799999999996\n",
      "script continue running at 2022-11-10 22:41:40\n",
      "-0.033311799999999996\n",
      "script continue running at 2022-11-10 22:41:45\n",
      "-0.033311799999999996\n",
      "script continue running at 2022-11-10 22:41:50\n",
      "-0.033311799999999996\n",
      "script continue running at 2022-11-10 22:41:55\n",
      "-0.033311799999999996\n",
      "script continue running at 2022-11-10 22:42:00\n",
      "-0.033311799999999996\n",
      "script continue running at 2022-11-10 22:42:05\n",
      "-0.033311799999999996\n",
      "script continue running at 2022-11-10 22:42:10\n",
      "-0.033311799999999996\n",
      "script continue running at 2022-11-10 22:42:15\n",
      "-0.033311799999999996\n",
      "script continue running at 2022-11-10 22:42:20\n",
      "SHORT order opened price:1318.03\n",
      "Direction SHORT again\n",
      "SHORT sl order opened price:1321.44\n",
      "SHORT tp order opened price:1318.8\n",
      "-0.014033999999999991\n",
      "script continue running at 2022-11-10 22:42:25\n",
      "-0.014033999999999991\n",
      "script continue running at 2022-11-10 22:42:30\n",
      "SHORT order opened price:1316.78\n",
      "Double SHORT again\n",
      "-0.02533719999999999\n",
      "SHORT tp order opened price:1317.2\n",
      "SHORT sl order opened price:1319.84\n",
      "script continue running at 2022-11-10 22:42:35\n",
      "-0.02533719999999999\n",
      "script continue running at 2022-11-10 22:42:40\n",
      "-0.02533719999999999\n",
      "script continue running at 2022-11-10 22:42:45\n",
      "-0.02533719999999999\n",
      "script continue running at 2022-11-10 22:42:50\n",
      "-0.02533719999999999\n",
      "script continue running at 2022-11-10 22:42:55\n",
      "-0.02533719999999999\n",
      "script continue running at 2022-11-10 22:43:00\n",
      "-0.02533719999999999\n",
      "script continue running at 2022-11-10 22:43:05\n",
      "-0.02533719999999999\n",
      "script continue running at 2022-11-10 22:43:10\n",
      "-0.02533719999999999\n",
      "script continue running at 2022-11-10 22:43:15\n",
      "-0.02533719999999999\n",
      "script continue running at 2022-11-10 22:43:20\n",
      "SHORT order opened price:1317.94\n",
      "Direction switched from LONG to SHORT\n",
      "-0.13610060000000002\n",
      "SHORT sl order opened price:1320.84\n",
      "SHORT tp order opened price:1318.86\n",
      "script continue running at 2022-11-10 22:43:25\n",
      "-0.13610060000000002\n",
      "script continue running at 2022-11-10 22:43:30\n",
      "-0.13610060000000002\n",
      "script continue running at 2022-11-10 22:43:35\n",
      "-0.13610060000000002\n",
      "script continue running at 2022-11-10 22:43:40\n",
      "-0.13610060000000002\n",
      "script continue running at 2022-11-10 22:43:45\n",
      "-0.13610060000000002\n",
      "script continue running at 2022-11-10 22:43:50\n",
      "-0.13610060000000002\n",
      "script continue running at 2022-11-10 22:43:55\n",
      "-0.13610060000000002\n",
      "script continue running at 2022-11-10 22:44:00\n",
      "-0.13610060000000002\n",
      "script continue running at 2022-11-10 22:44:05\n",
      "-0.13610060000000002\n",
      "script continue running at 2022-11-10 22:44:10\n",
      "-0.13610060000000002\n",
      "script continue running at 2022-11-10 22:44:15\n",
      "-0.13610060000000002\n",
      "script continue running at 2022-11-10 22:44:20\n",
      "-0.13610060000000002\n",
      "script continue running at 2022-11-10 22:44:25\n",
      "SHORT order opened price:1317.17\n",
      "Direction SHORT again\n",
      "-0.09673980000000003\n",
      "SHORT sl order opened price:1320.37\n",
      "SHORT tp order opened price:1317.73\n",
      "script continue running at 2022-11-10 22:44:30\n",
      "-0.09673980000000003\n",
      "script continue running at 2022-11-10 22:44:35\n",
      "-0.09673980000000003\n",
      "script continue running at 2022-11-10 22:44:40\n",
      "-0.09673980000000003\n",
      "script continue running at 2022-11-10 22:44:45\n",
      "-0.09673980000000003\n",
      "script continue running at 2022-11-10 22:44:50\n",
      "-0.09673980000000003\n",
      "script continue running at 2022-11-10 22:44:55\n",
      "-0.09673980000000003\n",
      "script continue running at 2022-11-10 22:45:00\n",
      "-0.09673980000000003\n"
     ]
    }
   ],
   "source": [
    "start_stop()"
   ]
  },
  {
   "cell_type": "code",
   "execution_count": null,
   "metadata": {},
   "outputs": [],
   "source": []
  }
 ],
 "metadata": {
  "kernelspec": {
   "display_name": "Python 3 (ipykernel)",
   "language": "python",
   "name": "python3"
  },
  "language_info": {
   "codemirror_mode": {
    "name": "ipython",
    "version": 3
   },
   "file_extension": ".py",
   "mimetype": "text/x-python",
   "name": "python",
   "nbconvert_exporter": "python",
   "pygments_lexer": "ipython3",
   "version": "3.9.12"
  }
 },
 "nbformat": 4,
 "nbformat_minor": 4
}
