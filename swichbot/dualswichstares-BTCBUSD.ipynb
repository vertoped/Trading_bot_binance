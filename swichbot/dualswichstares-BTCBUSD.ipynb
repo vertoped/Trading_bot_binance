{
 "cells": [
  {
   "cell_type": "code",
   "execution_count": 1,
   "metadata": {},
   "outputs": [],
   "source": [
    "import requests\n",
    "import numpy as np\n",
    "import pandas as pd\n",
    "import statsmodels.api as sm\n",
    "import matplotlib.pyplot as plt\n",
    "import copy\n",
    "import time\n",
    "import random\n",
    "import threading\n",
    "import coinconfig\n",
    "\n",
    "from binance import Client, ThreadedWebsocketManager, ThreadedDepthCacheManager\n",
    "from binance.helpers import round_step_size\n",
    "from futures_sign import send_signed_request, send_public_request\n",
    "from cred import KEY, SECRET"
   ]
  },
  {
   "cell_type": "code",
   "execution_count": 2,
   "metadata": {},
   "outputs": [],
   "source": [
    "#0:BTCBUSD, 1:BTCUSDT, 2:DOGEUSDT, 3:DOGEBUSD, 4:ETHBUSD, 5:ETHUSDT, 6:EOSUSDT, 7:LTCUSDT, 8:BNBBUSD"
   ]
  },
  {
   "cell_type": "code",
   "execution_count": 3,
   "metadata": {},
   "outputs": [],
   "source": [
    "client = Client(KEY, SECRET, testnet=False)\n",
    "config=coinconfig.tradeconfig\n",
    "coin=coinconfig.coinlist[0]"
   ]
  },
  {
   "cell_type": "code",
   "execution_count": 4,
   "metadata": {},
   "outputs": [],
   "source": [
    "symbol=coin[\"symbol\"]\n",
    "asset=coin[\"asset\"]\n",
    "recvWindow=config[\"recvWindow\"]\n",
    "dualSidePosition=config[\"dualSidePosition\"]\n",
    "marginType=config[\"marginType\"]\n",
    "\n",
    "leverage=coin[\"leverage\"]\n",
    "roundity=coin[\"roundity\"]\n",
    "profit_percent=coin[\"profit_percent\"]\n",
    "diference=coin[\"diference\"]\n",
    "stop_percent=profit_percent-diference\n",
    "balance_part=coin[\"balance_part\"]\n",
    "compensation=coin[\"compensation\"]\n",
    "ingebit=coin[\"ingebit\"]"
   ]
  },
  {
   "cell_type": "code",
   "execution_count": 5,
   "metadata": {
    "tags": []
   },
   "outputs": [
    {
     "data": {
      "text/plain": [
       "{'symbol': 'BTCBUSD', 'leverage': 50, 'maxNotionalValue': '50000'}"
      ]
     },
     "execution_count": 5,
     "metadata": {},
     "output_type": "execute_result"
    }
   ],
   "source": [
    "client.futures_change_leverage(symbol=symbol, leverage=leverage, recvWindow=recvWindow)"
   ]
  },
  {
   "cell_type": "code",
   "execution_count": 6,
   "metadata": {
    "tags": []
   },
   "outputs": [],
   "source": [
    "# Margin type\n",
    "def margin_type_to_isolated():\n",
    "    status = client.futures_account()\n",
    "    positions=pd.DataFrame(status['positions'])\n",
    "    body=positions[positions['symbol']==symbol]['isolated'].astype(bool).tolist()[0]\n",
    "\n",
    "    if body==True:\n",
    "        client.futures_change_margin_type(symbol=symbol, marginType=marginType, recvWindow=recvWindow)\n",
    "        print(f'Changed to {marginType}')\n",
    "    else:\n",
    "        print(f'Already {marginType}')"
   ]
  },
  {
   "cell_type": "code",
   "execution_count": 7,
   "metadata": {
    "tags": []
   },
   "outputs": [
    {
     "name": "stdout",
     "output_type": "stream",
     "text": [
      "Already CROSSED\n"
     ]
    }
   ],
   "source": [
    "margin_type_to_isolated()"
   ]
  },
  {
   "cell_type": "code",
   "execution_count": 8,
   "metadata": {
    "tags": []
   },
   "outputs": [],
   "source": [
    "# Hedge mode turn on\n",
    "\n",
    "def hedge_mode_turn_on():\n",
    "    status=client.futures_get_position_mode() \n",
    "    if status['dualSidePosition']==False:\n",
    "        client.futures_change_position_mode(dualSidePosition=dualSidePosition, recvWindow=recvWindow)\n",
    "        client.futures_get_position_mode()\n",
    "        print('Dual turned on')\n",
    "    else:\n",
    "        print('Already Dual')\n",
    "    return(status['dualSidePosition'])"
   ]
  },
  {
   "cell_type": "code",
   "execution_count": 9,
   "metadata": {},
   "outputs": [
    {
     "name": "stdout",
     "output_type": "stream",
     "text": [
      "Already Dual\n"
     ]
    },
    {
     "data": {
      "text/plain": [
       "True"
      ]
     },
     "execution_count": 9,
     "metadata": {},
     "output_type": "execute_result"
    }
   ],
   "source": [
    "hedge_mode_turn_on()"
   ]
  },
  {
   "cell_type": "code",
   "execution_count": 10,
   "metadata": {},
   "outputs": [],
   "source": [
    "def get_assetbalance(symbol):\n",
    "    status = client.futures_account()\n",
    "    balance = pd.DataFrame(status['assets'])\n",
    "    assetbalance = float(balance.loc[balance['asset'] == asset, 'availableBalance'])\n",
    "    return(assetbalance)"
   ]
  },
  {
   "cell_type": "code",
   "execution_count": 11,
   "metadata": {
    "tags": []
   },
   "outputs": [],
   "source": [
    "# Find all opened positions\n",
    "\n",
    "def get_opened_positions(symbol):\n",
    "    status = client.futures_account()\n",
    "    positions=pd.DataFrame(status['positions'])\n",
    "    open_positions=positions[positions['symbol']==symbol]\n",
    "    position_long=float(open_positions[open_positions['positionSide']=='LONG']['entryPrice'])\n",
    "    position_short=float(open_positions[open_positions['positionSide']=='SHORT']['entryPrice'])\n",
    "    return(position_long,position_short)"
   ]
  },
  {
   "cell_type": "code",
   "execution_count": 12,
   "metadata": {},
   "outputs": [
    {
     "data": {
      "text/plain": [
       "(16574.4, 16574.3)"
      ]
     },
     "execution_count": 12,
     "metadata": {},
     "output_type": "execute_result"
    }
   ],
   "source": [
    "get_opened_positions(symbol)"
   ]
  },
  {
   "cell_type": "code",
   "execution_count": 13,
   "metadata": {},
   "outputs": [],
   "source": [
    "def get_quant(symbol):\n",
    "    status = client.futures_account()\n",
    "    positions=pd.DataFrame(status['positions'])\n",
    "    open_positions=positions[positions['symbol']==symbol]\n",
    "    quant=float(open_positions[open_positions['positionSide']=='LONG']['positionAmt'])\n",
    "    if quant==0:\n",
    "        quant=abs(float(open_positions[open_positions['positionSide']=='SHORT']['positionAmt']))\n",
    "    return(quant)"
   ]
  },
  {
   "cell_type": "code",
   "execution_count": 14,
   "metadata": {
    "tags": []
   },
   "outputs": [],
   "source": [
    "# Close all orders \n",
    "\n",
    "def check_and_close_orders(symbol):\n",
    "    global isStop \n",
    "    a=client.futures_get_open_orders(symbol=symbol)\n",
    "    if len(a)>0:\n",
    "        isStop = False\n",
    "        client.futures_cancel_all_open_orders(symbol=symbol)"
   ]
  },
  {
   "cell_type": "code",
   "execution_count": 15,
   "metadata": {
    "tags": []
   },
   "outputs": [],
   "source": [
    "def get_symbol_price(symbol):\n",
    "    prices = client.get_all_tickers()\n",
    "    df=pd.DataFrame(prices)\n",
    "    return float(df[ df['symbol']==symbol]['price'])"
   ]
  },
  {
   "cell_type": "code",
   "execution_count": 16,
   "metadata": {},
   "outputs": [
    {
     "data": {
      "text/plain": [
       "16586.4"
      ]
     },
     "execution_count": 16,
     "metadata": {},
     "output_type": "execute_result"
    }
   ],
   "source": [
    "get_symbol_price(symbol)"
   ]
  },
  {
   "cell_type": "code",
   "execution_count": 17,
   "metadata": {
    "tags": []
   },
   "outputs": [],
   "source": [
    "#получить tick size\n",
    "\n",
    "def get_tick_size(symbol):\n",
    "    data = client.futures_exchange_info()\n",
    "    tick_size = 0.0\n",
    "    the_symbol = symbol\n",
    "\n",
    "    found = False\n",
    "    info = data['symbols']\n",
    "    for s in range(len(info)):\n",
    "        if info[s]['symbol'] == the_symbol:\n",
    "            filters = info[s]['filters']\n",
    "            for f in range(len(filters)):\n",
    "                if filters[f]['filterType'] == 'PRICE_FILTER':\n",
    "                    tick_size = float(filters[f]['tickSize'])\n",
    "                    found = True\n",
    "                    break\n",
    "            break\n",
    "    return(tick_size)"
   ]
  },
  {
   "cell_type": "code",
   "execution_count": 18,
   "metadata": {},
   "outputs": [
    {
     "data": {
      "text/plain": [
       "'0.001'"
      ]
     },
     "execution_count": 18,
     "metadata": {},
     "output_type": "execute_result"
    }
   ],
   "source": [
    "#Trade config\n",
    "\n",
    "# maxposition=0.016 #1 = 100% = 1 BTC,\n",
    "asset_balance=get_assetbalance(symbol)\n",
    "symbol_price=get_symbol_price(symbol)\n",
    "maxposition=round(asset_balance*balance_part*leverage/symbol_price,3)\n",
    "quantity=str(round(maxposition/2,roundity))\n",
    "tick_size=get_tick_size(symbol)\n",
    "symbolround=abs(str(tick_size).find('.') - len(str(tick_size))) - 1\n",
    "quantity"
   ]
  },
  {
   "cell_type": "code",
   "execution_count": 19,
   "metadata": {
    "tags": []
   },
   "outputs": [],
   "source": [
    "#Stop loss LONG \n",
    "def open_sl_long(symbol,quant,tick_size,stop_percent):\n",
    "    try:\n",
    "        positions=get_opened_positions(symbol)\n",
    "        entry_price=positions[0]\n",
    "        stop_price_trigger=str(round(float(entry_price)*(1-stop_percent), symbolround))\n",
    "        stop_price=str(round(float(stop_price_trigger)*0.9999, symbolround))\n",
    "        tick=str(tick_size)\n",
    "        params = {\n",
    "            \"batchOrders\": [\n",
    "                {\n",
    "                    \"symbol\":symbol,\n",
    "                    \"side\": \"SELL\",\n",
    "                    \"positionSide\": \"LONG\",\n",
    "                    \"type\": \"STOP\",\n",
    "                    \"quantity\": quant,\n",
    "                    \"timeInForce\":\"GTE_GTC\",\n",
    "                    \"tickSize\": tick,\n",
    "                    \"stopPrice\": stop_price_trigger,\n",
    "                    \"price\": stop_price\n",
    "                }\n",
    "            ]\n",
    "        }\n",
    "\n",
    "        open_position_sl_long_response=send_signed_request('POST', '/fapi/v1/batchOrders', params)\n",
    "        long_sl_opened=float(open_position_sl_long_response[0]['price'])\n",
    "        print('LONG sl order opened price:'+str(long_sl_opened))\n",
    "        return(long_sl_opened)\n",
    "    \n",
    "    except :\n",
    "        print('\\n\\nSL long not open...')\n",
    "        "
   ]
  },
  {
   "cell_type": "code",
   "execution_count": 20,
   "metadata": {},
   "outputs": [],
   "source": [
    "def open_sl_long_steps(symbol,quantity,tick_size,stop_percent):\n",
    "    stop_step=stop_percent/5  \n",
    "    quant=str(get_quant(symbol))\n",
    "    x = threading.Thread(target=open_sl_long, args=(symbol,str(round(float(quant)/(ingebit*2),roundity)),tick_size,stop_step*3/2))\n",
    "    x.start()\n",
    "    y = threading.Thread(target=open_sl_long, args=(symbol,str(round(float(quant)/(ingebit),roundity)),tick_size,stop_step*2))\n",
    "    y.start()\n",
    "    z = threading.Thread(target=open_sl_long, args=(symbol,str(round(float(quant)/(ingebit*2),roundity)),tick_size,stop_step*5/2))\n",
    "    z.start()\n",
    "    w = threading.Thread(target=open_sl_long, args=(symbol,quant,tick_size,stop_step*3))\n",
    "    w.start()"
   ]
  },
  {
   "cell_type": "code",
   "execution_count": 21,
   "metadata": {
    "tags": []
   },
   "outputs": [],
   "source": [
    "#Take Profit LONG \n",
    "\n",
    "def open_tp_long(symbol,quant,tick_size,profit_percent):\n",
    "    try:\n",
    "        positions=get_opened_positions(symbol)\n",
    "        entry_price=positions[0]\n",
    "        take_price_trigger=str(round(float(entry_price)*(1+profit_percent), symbolround))\n",
    "        take_price=str(round(float(take_price_trigger)*0.9999, symbolround))\n",
    "        tick=str(tick_size)\n",
    "        params = {\n",
    "            \"batchOrders\": [\n",
    "                {\n",
    "                    \"symbol\":symbol,\n",
    "                    \"side\": \"SELL\",\n",
    "                    \"positionSide\": \"LONG\",\n",
    "                    \"type\": \"TAKE_PROFIT\",\n",
    "                    \"quantity\": quant,\n",
    "                    \"timeInForce\":\"GTE_GTC\",\n",
    "                    \"tickSize\": tick,\n",
    "                    \"stopPrice\": take_price_trigger,\n",
    "                    \"price\": take_price\n",
    "                }\n",
    "            ]\n",
    "        }\n",
    "        open_position_tp_long_response=send_signed_request('POST', '/fapi/v1/batchOrders', params)\n",
    "        long_tp_opened=float(open_position_tp_long_response[0]['price'])\n",
    "        print('LONG tp order opened price:'+str(long_tp_opened))\n",
    "        return(long_tp_opened)\n",
    "        \n",
    "    except :\n",
    "        print('\\n\\nTP long not open...')"
   ]
  },
  {
   "cell_type": "code",
   "execution_count": 22,
   "metadata": {},
   "outputs": [],
   "source": [
    "def open_tp_long_steps(symbol,quantity,tick_size,profit_percent):\n",
    "    quant=str(round(float(quantity)/(ingebit*1.5),roundity))\n",
    "    profit_step=profit_percent/5\n",
    "    \n",
    "    # x = threading.Thread(target=open_tp_long, args=(symbol,quantity,tick_size,profit_percent))\n",
    "    # x.start()\n",
    "    # y = threading.Thread(target=open_tp_long, args=(symbol,quant,tick_size,profit_step))\n",
    "    # y.start()\n",
    "    z = threading.Thread(target=open_tp_long, args=(symbol,quant,tick_size,profit_step*2))\n",
    "    z.start()\n",
    "    w = threading.Thread(target=open_tp_long, args=(symbol,quantity,tick_size,profit_step*3))\n",
    "    w.start()"
   ]
  },
  {
   "cell_type": "code",
   "execution_count": 23,
   "metadata": {},
   "outputs": [],
   "source": [
    "#Открыть sl&tp LONG если есть позиция\n",
    "\n",
    "def long_tp_sl_opening(symbol,quantity,profit_percent,stop_percent):\n",
    "    position=get_opened_positions(symbol)\n",
    "    if position[0]>0:\n",
    "        x = threading.Thread(target=open_tp_long_steps, args=(symbol,quantity,tick_size,profit_percent))\n",
    "        x.start()\n",
    "        y = threading.Thread(target=open_sl_long_steps, args=(symbol,quantity,tick_size,stop_percent))\n",
    "        y.start()"
   ]
  },
  {
   "cell_type": "code",
   "execution_count": 24,
   "metadata": {
    "tags": []
   },
   "outputs": [],
   "source": [
    "#Открыть позицию LONG \n",
    "\n",
    "def open_position_long(symbol,quantity,tick_size,profit_percent,stop_percent,close_price):\n",
    "    tick=str(tick_size)\n",
    "    params = {\n",
    "        \"batchOrders\": [\n",
    "            {\n",
    "                \"symbol\":symbol,\n",
    "                \"side\": \"BUY\",\n",
    "                \"positionSide\": \"LONG\",\n",
    "                \"type\": \"LIMIT\",\n",
    "                \"quantity\": quantity,\n",
    "                \"timeInForce\":\"GTC\",\n",
    "                \"tickSize\": tick,\n",
    "                \"price\": close_price        \n",
    "            }\n",
    "        ]\n",
    "    }\n",
    "    open_position_long_response=send_signed_request('POST', '/fapi/v1/batchOrders', params)\n",
    "    long_opened=float(open_position_long_response[0]['price'])\n",
    "    if long_opened>0:\n",
    "        print('LONG order opened price:'+str(long_opened))\n",
    "        long_tp_sl=long_tp_sl_opening(symbol,quantity,profit_percent,stop_percent)\n",
    "    else:\n",
    "        print('LONG not open')"
   ]
  },
  {
   "cell_type": "code",
   "execution_count": 25,
   "metadata": {},
   "outputs": [],
   "source": [
    "def open_position_long_steps(symbol,profit_percent):\n",
    "    quant=str(round(float(quantity)/ingebit,roundity))\n",
    "    sprice=get_symbol_price(symbol)\n",
    "    close_price=str(round(sprice*(1+0.001),symbolround))\n",
    "    open_position_long(symbol,quantity,tick_size,profit_percent,stop_percent,close_price)"
   ]
  },
  {
   "cell_type": "code",
   "execution_count": 26,
   "metadata": {
    "tags": []
   },
   "outputs": [],
   "source": [
    "#Stop loss SHORT \n",
    "\n",
    "def open_sl_short(symbol,quant,tick_size,stop_percent):\n",
    "    try:\n",
    "        positions=get_opened_positions(symbol)\n",
    "        entry_price=positions[1]\n",
    "        stop_price_trigger=str(round(float(entry_price)*(1+stop_percent), symbolround))\n",
    "        stop_price=str(round(float(stop_price_trigger)*1.0001, symbolround))\n",
    "        tick=str(tick_size)\n",
    "        params = {\n",
    "            \"batchOrders\": [\n",
    "                {\n",
    "                    \"symbol\":symbol,\n",
    "                    \"side\": \"BUY\",\n",
    "                    \"positionSide\": \"SHORT\",\n",
    "                    \"type\": \"STOP\",\n",
    "                    \"quantity\": quant,\n",
    "                    \"timeInForce\":\"GTE_GTC\",\n",
    "                    \"tickSize\": tick,\n",
    "                    \"stopPrice\": stop_price_trigger,\n",
    "                    \"price\": stop_price\n",
    "                }\n",
    "            ]\n",
    "        }\n",
    "        \n",
    "        open_position_sl_short_response=send_signed_request('POST', '/fapi/v1/batchOrders', params)\n",
    "        short_sl_opened=float(open_position_sl_short_response[0]['price'])\n",
    "        print('SHORT sl order opened price:'+str(short_sl_opened))\n",
    "        return(short_sl_opened)\n",
    "    \n",
    "    except :\n",
    "        print('\\n\\nSL short not open...')\n"
   ]
  },
  {
   "cell_type": "code",
   "execution_count": 27,
   "metadata": {},
   "outputs": [],
   "source": [
    "def open_sl_short_steps(symbol,quantity,tick_size,stop_percent):\n",
    "    stop_step=stop_percent/5 \n",
    "    quant=str(get_quant(symbol))\n",
    "    x = threading.Thread(target=open_sl_long, args=(symbol,str(round(float(quant)/(ingebit*2),roundity)),tick_size,stop_step*3/2))\n",
    "    x.start()\n",
    "    y = threading.Thread(target=open_sl_short, args=(symbol,str(round(float(quant)/(ingebit),roundity)),tick_size,stop_step*2))\n",
    "    y.start()\n",
    "    z = threading.Thread(target=open_sl_short, args=(symbol,str(round(float(quant)/(ingebit*2),roundity)),tick_size,stop_step*5/2))\n",
    "    z.start()\n",
    "    w = threading.Thread(target=open_sl_short, args=(symbol,quant,tick_size,stop_step*3))\n",
    "    w.start()"
   ]
  },
  {
   "cell_type": "code",
   "execution_count": 28,
   "metadata": {
    "tags": []
   },
   "outputs": [],
   "source": [
    "#Take Profit SHORT\n",
    "\n",
    "def open_tp_short(symbol,quant,tick_size,profit_percent):\n",
    "    try:\n",
    "        positions=get_opened_positions(symbol)\n",
    "        entry_price=positions[1]\n",
    "        take_price_trigger=str(round(float(entry_price)*(1-profit_percent), symbolround))\n",
    "        take_price=str(round(float(take_price_trigger)*1.0001, symbolround))\n",
    "        tick=str(tick_size)\n",
    "        params = {\n",
    "            \"batchOrders\": [\n",
    "                {\n",
    "                    \"symbol\":symbol,\n",
    "                    \"side\": \"BUY\",\n",
    "                    \"positionSide\": \"SHORT\",\n",
    "                    \"type\": \"TAKE_PROFIT\",\n",
    "                    \"quantity\": quant,\n",
    "                    \"timeInForce\":\"GTE_GTC\",\n",
    "                    \"tickSize\": tick,\n",
    "                    \"stopPrice\": take_price_trigger,\n",
    "                    \"price\": take_price\n",
    "                }\n",
    "            ]\n",
    "        }\n",
    "\n",
    "        open_position_tp_short_response=send_signed_request('POST', '/fapi/v1/batchOrders', params)\n",
    "        short_tp_opened=float(open_position_tp_short_response[0]['price'])\n",
    "        print('SHORT tp order opened price:'+str(short_tp_opened))\n",
    "        return(short_tp_opened)\n",
    "    \n",
    "    except :\n",
    "        print('\\n\\nTp short not open...')\n"
   ]
  },
  {
   "cell_type": "code",
   "execution_count": 29,
   "metadata": {},
   "outputs": [],
   "source": [
    "def open_tp_short_steps(symbol,quantity,tick_size,profit_percent):\n",
    "    quant=str(round(float(quantity)/3,roundity))\n",
    "    profit_step=profit_percent/5\n",
    "    \n",
    "    # x = threading.Thread(target=open_tp_short, args=(symbol,quantity,tick_size,profit_percent))\n",
    "    # x.start()\n",
    "    # y = threading.Thread(target=open_tp_short, args=(symbol,quant,tick_size,profit_step))\n",
    "    # y.start()\n",
    "    z = threading.Thread(target=open_tp_short, args=(symbol,quant,tick_size,profit_step*2))\n",
    "    z.start()\n",
    "    w = threading.Thread(target=open_tp_short, args=(symbol,quantity,tick_size,profit_step*3))\n",
    "    w.start()"
   ]
  },
  {
   "cell_type": "code",
   "execution_count": 30,
   "metadata": {},
   "outputs": [],
   "source": [
    "#Открыть sl&tp SHORT если есть позиция\n",
    "       \n",
    "def short_tp_sl_opening(symbol,quantity,profit_percent,stop_percent):\n",
    "    position=get_opened_positions(symbol)\n",
    "    if position[1]>0:\n",
    "        x = threading.Thread(target=open_tp_short_steps, args=(symbol,quantity,tick_size,profit_percent))\n",
    "        x.start()\n",
    "        y = threading.Thread(target=open_sl_short_steps, args=(symbol,quantity,tick_size,stop_percent))\n",
    "        y.start()"
   ]
  },
  {
   "cell_type": "code",
   "execution_count": 31,
   "metadata": {
    "tags": []
   },
   "outputs": [],
   "source": [
    "#Открыть позицию SHORT\n",
    "\n",
    "def open_position_short(symbol,quantity,tick_size,profit_percent,stop_percent,close_price):\n",
    "    tick=str(tick_size)\n",
    "    params = {\n",
    "        \"batchOrders\": [\n",
    "            {\n",
    "                \"symbol\":symbol,\n",
    "                \"side\": \"SELL\",\n",
    "                \"positionSide\": \"SHORT\",\n",
    "                \"type\": \"LIMIT\",\n",
    "                \"quantity\": quantity,\n",
    "                \"timeInForce\":\"GTC\",\n",
    "                \"tickSize\": tick,\n",
    "                \"price\": close_price        \n",
    "            }\n",
    "        ]\n",
    "    }\n",
    "    open_position_short_response=send_signed_request('POST', '/fapi/v1/batchOrders', params)\n",
    "    short_opened=float(open_position_short_response[0]['price'])    \n",
    "    if short_opened>0:\n",
    "        print('SHORT order opened price:'+str(short_opened))\n",
    "        short_tp_sl=short_tp_sl_opening(symbol,quantity,profit_percent,stop_percent)\n",
    "    else:\n",
    "        print('SHORT not open')"
   ]
  },
  {
   "cell_type": "code",
   "execution_count": 32,
   "metadata": {},
   "outputs": [],
   "source": [
    "def open_position_short_steps(symbol,profit_percent):\n",
    "    quant=str(round(float(quantity)/ingebit,roundity))\n",
    "    sprice=get_symbol_price(symbol)\n",
    "    close_price=str(round(sprice*(1-0.001),symbolround))\n",
    "    open_position_short(symbol,quantity,tick_size,profit_percent,stop_percent,close_price)"
   ]
  },
  {
   "cell_type": "code",
   "execution_count": 33,
   "metadata": {},
   "outputs": [],
   "source": [
    "def get_profit(symbol):\n",
    "    trades = client.futures_account_trades(symbol=symbol)\n",
    "    dataset=pd.DataFrame(trades).iloc[-10:]\n",
    "    bnbcom=dataset[dataset['commissionAsset']=='BNB']['commission'].astype(float).sum()\n",
    "    busdcom=dataset[dataset['commissionAsset']==asset]['commission'].astype(float).sum()\n",
    "    com=(bnbcom*270+busdcom)*-1\n",
    "    real=dataset['realizedPnl'].astype(float).sum()\n",
    "    profit=float(com+real)\n",
    "    dataseto=pd.DataFrame(trades)['realizedPnl'].astype(float)[-50:]\n",
    "    dataseto=pd.DataFrame(dataseto)\n",
    "    datasetneg=len(dataseto[dataseto['realizedPnl']<0].index)\n",
    "    datasetpos=len(dataseto[dataseto['realizedPnl']>0].index)\n",
    "    print(profit,'+',datasetpos,'-',datasetneg)"
   ]
  },
  {
   "cell_type": "code",
   "execution_count": 34,
   "metadata": {},
   "outputs": [
    {
     "name": "stdout",
     "output_type": "stream",
     "text": [
      "-0.0737061 + 4 - 6\n"
     ]
    }
   ],
   "source": [
    "get_profit(symbol)"
   ]
  },
  {
   "cell_type": "code",
   "execution_count": 35,
   "metadata": {},
   "outputs": [],
   "source": [
    "def get_direction(symbol):\n",
    "    trades = client.futures_account_trades(symbol=symbol)[-1:]\n",
    "    dataset = pd.DataFrame(trades)\n",
    "    resdata = float(dataset['realizedPnl'])\n",
    "    direction=1\n",
    "    if resdata < 0:\n",
    "        direction=0\n",
    "    return(direction)"
   ]
  },
  {
   "cell_type": "code",
   "execution_count": 36,
   "metadata": {},
   "outputs": [
    {
     "data": {
      "text/plain": [
       "1"
      ]
     },
     "execution_count": 36,
     "metadata": {},
     "output_type": "execute_result"
    }
   ],
   "source": [
    "get_direction(symbol)"
   ]
  },
  {
   "cell_type": "code",
   "execution_count": 37,
   "metadata": {},
   "outputs": [],
   "source": [
    "def changer(symbol):\n",
    "    direction=get_direction(symbol)\n",
    "    f = open(\"directdoc.txt\", \"r\")\n",
    "    direc=f.read()\n",
    "    if direction==0: #реверс\n",
    "        if direc=='0':\n",
    "            x = threading.Thread(target=open_position_long_steps, args=(symbol,profit_percent*1.5))\n",
    "            x.start()\n",
    "            y = threading.Thread(target=open_position_short_steps, args=(symbol,profit_percent))\n",
    "            y.start()\n",
    "            print('Direction switched from SHORT to LONG')\n",
    "            f = open(\"directdoc.txt\", \"w\")\n",
    "            f.write(\"1\")\n",
    "            f.close()\n",
    "        else:\n",
    "            x = threading.Thread(target=open_position_long_steps, args=(symbol,profit_percent))\n",
    "            x.start()\n",
    "            y = threading.Thread(target=open_position_short_steps, args=(symbol,profit_percent*1.5))\n",
    "            y.start()\n",
    "            print('Direction switched from LONG to SHORT')\n",
    "            f = open(\"directdoc.txt\", \"w\")\n",
    "            f.write(\"0\")\n",
    "            f.close()\n",
    "    else: \n",
    "        if direc=='0':\n",
    "            x = threading.Thread(target=open_position_long_steps, args=(symbol,profit_percent))\n",
    "            x.start()\n",
    "            y = threading.Thread(target=open_position_short_steps, args=(symbol,profit_percent*1.5))\n",
    "            y.start()\n",
    "            print('Direction SHORT again')\n",
    "            f = open(\"directdoc.txt\", \"w\")\n",
    "            f.write(\"0\")\n",
    "            f.close()\n",
    "        if direc=='1':\n",
    "            x = threading.Thread(target=open_position_long_steps, args=(symbol,profit_percent*1.5))\n",
    "            x.start()\n",
    "            y = threading.Thread(target=open_position_short_steps, args=(symbol,profit_percent))\n",
    "            y.start()\n",
    "            print('Direction LONG again')\n",
    "            f = open(\"directdoc.txt\", \"w\")\n",
    "            f.write(\"1\")\n",
    "            f.close()"
   ]
  },
  {
   "cell_type": "code",
   "execution_count": 38,
   "metadata": {},
   "outputs": [],
   "source": [
    "def check_positions_new(symbol):\n",
    "    positions=get_opened_positions(symbol)\n",
    "    orders=client.futures_get_open_orders(symbol=symbol)\n",
    "    orders_df=pd.DataFrame(orders)\n",
    "    if positions[0]+positions[1]==0:\n",
    "        if orders_df.empty:\n",
    "            changer(symbol)\n",
    "            \n",
    "    orders_tp_number=len(orders_df[orders_df['origType']=='TAKE_PROFIT'])\n",
    "    if positions[0]>0 and (orders_tp_number==1 or orders_tp_number==3):\n",
    "        sprice=get_symbol_price(symbol)\n",
    "        if sprice<(positions[0])*(1+profit_percent/10):\n",
    "            quant=str(round(get_quant(symbol),roundity))\n",
    "            params={ \n",
    "                \"batchOrders\": [\n",
    "                    {\n",
    "                        \"symbol\":symbol, \n",
    "                        \"positionSide\": \"LONG\", \n",
    "                        \"side\":'SELL', \n",
    "                        \"type\":'MARKET',\n",
    "                        \"quantity\":quant\n",
    "                    }\n",
    "                ]\n",
    "            }\n",
    "            one_stop=send_signed_request('POST', '/fapi/v1/batchOrders', params)\n",
    "            if str(float(one_stop[0]['origQty']))==quant:\n",
    "                print(f'Compensation LONG price {sprice}')\n",
    "\n",
    "    if positions[1]>0 and (orders_tp_number==1 or orders_tp_number==3):\n",
    "        sprice=get_symbol_price(symbol)\n",
    "        if sprice>(positions[1])*(1-profit_percent/10):\n",
    "            quant=str(round(get_quant(symbol),roundity))\n",
    "            params={ \n",
    "                \"batchOrders\": [\n",
    "                    {\n",
    "                        \"symbol\":symbol, \n",
    "                        \"positionSide\": \"SHORT\", \n",
    "                        \"side\":'BUY', \n",
    "                        \"type\":'MARKET',\n",
    "                        \"quantity\":quant\n",
    "                    }\n",
    "                ]\n",
    "            }\n",
    "            one_stop=send_signed_request('POST', '/fapi/v1/batchOrders', params)\n",
    "            if str(float(one_stop[0]['origQty']))==quant:\n",
    "                print(f'Compensation SHORT price {sprice}')\n",
    "#     else:\n",
    "\n",
    "#         if positions[0]>0 and positions[1]==0:\n",
    "#             quant=str(round(get_quant(symbol),roundity))\n",
    "#             sprice=get_symbol_price(symbol)\n",
    "#             asset=get_assetbalance(symbol)\n",
    "#             if (asset*leverage)/(sprice*ingebit*2)>float(quant):\n",
    "#                 if sprice<positions[0]*(1-profit_percent/4):\n",
    "#                     sprice=get_symbol_price(symbol)\n",
    "#                     close_price=str(round(sprice*(1-0.001),symbolround))                \n",
    "#                     open_position_short(symbol,quant,tick_size,profit_percent,stop_percent,close_price)\n",
    "#                     print('SHORT compensation opened')\n",
    "#                     # client.futures_cancel_all_open_orders(symbol=symbol)\n",
    "#                     # long_tp_sl_opening(symbol,quant,profit_percent,stop_percent)\n",
    "#                 else:\n",
    "#                     print('SHORT compensation not in condition')\n",
    "#         if positions[1]>0 and positions[0]==0:\n",
    "#             quant=str(round(get_quant(symbol),roundity))\n",
    "#             sprice=get_symbol_price(symbol)\n",
    "#             asset=get_assetbalance(symbol)\n",
    "#             if (asset*leverage)/(sprice*ingebit*2)>float(quant):\n",
    "#                 if sprice>positions[1]*(1+profit_percent/4):\n",
    "#                     sprice=get_symbol_price(symbol)\n",
    "#                     close_price=str(round(sprice*(1+0.001),symbolround))                \n",
    "#                     open_position_long(symbol,quant,tick_size,profit_percent,stop_percent,close_price)\n",
    "#                     print('LONG compensation opened')\n",
    "#                     # client.futures_cancel_all_open_orders(symbol=symbol)\n",
    "#                     # short_tp_sl_opening(symbol,quant,profit_percent,stop_percent)\n",
    "#                 else:\n",
    "#                     print('LONG compensation not in condition')"
   ]
  },
  {
   "cell_type": "code",
   "execution_count": 39,
   "metadata": {},
   "outputs": [],
   "source": [
    "def check_step(symbol):\n",
    "    quant=str(get_quant(symbol)*2)\n",
    "    sprice=get_symbol_price(symbol)\n",
    "    asset=get_assetbalance(symbol)\n",
    "    # if (asset*leverage)/(sprice*ingebit*2)>float(quant):\n",
    "    positions=get_opened_positions(symbol)\n",
    "    if positions[0]>0:\n",
    "        if sprice>(positions[0])*(1+profit_percent/1.9):\n",
    "            sprice=get_symbol_price(symbol)\n",
    "            close_price=str(round(sprice*(1+0.001),symbolround))\n",
    "            open_position_long(symbol,quant,tick_size,profit_percent,stop_percent,close_price)\n",
    "            print('LONG addinational 1')\n",
    "            # client.futures_cancel_all_open_orders(symbol=symbol)\n",
    "            # short_tp_sl_opening(symbol,quantity,profit_percent,stop_percent)\n",
    "\n",
    "    if positions[1]>0:\n",
    "        if sprice<(positions[1])*(1-profit_percent/1.9):\n",
    "            sprice=get_symbol_price(symbol)\n",
    "            close_price=str(round(sprice*(1-0.001),symbolround))\n",
    "            open_position_short(symbol,quant,tick_size,profit_percent,stop_percent,close_price)\n",
    "            print('SHORT addinational 1')\n",
    "            # client.futures_cancel_all_open_orders(symbol=symbol)\n",
    "            # long_tp_sl_opening(symbol,quantity,profit_percent,stop_percent)\n",
    "    else:\n",
    "        print('No positions')"
   ]
  },
  {
   "cell_type": "code",
   "execution_count": 40,
   "metadata": {},
   "outputs": [],
   "source": [
    "def main(step):\n",
    "    try:\n",
    "        x = threading.Thread(target=check_positions_new(symbol))\n",
    "        x.start()\n",
    "        y = threading.Thread(target=get_profit(symbol))\n",
    "        y.start()\n",
    "        z = threading.Thread(target=check_step(symbol))\n",
    "        z.start()\n",
    "    except :\n",
    "        print('\\n\\nSomething went wrong. Continuing...')"
   ]
  },
  {
   "cell_type": "code",
   "execution_count": 41,
   "metadata": {},
   "outputs": [],
   "source": [
    "def start_stop():\n",
    "    starttime=time.time()\n",
    "    counterr=1\n",
    "    timeout = time.time() + 60*60*6  # 60 seconds times 60 meaning the script will run for 12 hr\n",
    "    while time.time() <= timeout:\n",
    "        try:\n",
    "\n",
    "            print(\"script continue running at \"+time.strftime('%Y-%m-%d %H:%M:%S', time.localtime(time.time())))\n",
    "            main(counterr)\n",
    "            counterr=counterr+1\n",
    "            if counterr>3:\n",
    "                counterr=1\n",
    "            time.sleep(4 - ((time.time() - starttime) % 4.0)) # 1 minute interval between each new execution\n",
    "        except KeyboardInterrupt:\n",
    "            print('\\n\\KeyboardInterrupt. Stopping.')\n",
    "        "
   ]
  },
  {
   "cell_type": "code",
   "execution_count": null,
   "metadata": {},
   "outputs": [
    {
     "name": "stdout",
     "output_type": "stream",
     "text": [
      "script continue running at 2022-11-26 13:30:37\n",
      "-0.0737061 + 4 - 6\n",
      "script continue running at 2022-11-26 13:30:45\n",
      "-0.0737061 + 4 - 6\n",
      "script continue running at 2022-11-26 13:30:49\n",
      "-0.0737061 + 4 - 6\n",
      "script continue running at 2022-11-26 13:30:53\n",
      "-0.0737061 + 4 - 6\n",
      "script continue running at 2022-11-26 13:30:57\n",
      "-0.0737061 + 4 - 6\n",
      "script continue running at 2022-11-26 13:31:01\n",
      "-0.0737061 + 4 - 6\n",
      "script continue running at 2022-11-26 13:31:05\n",
      "-0.0737061 + 4 - 6\n",
      "script continue running at 2022-11-26 13:31:09\n",
      "-0.0737061 + 4 - 6\n",
      "script continue running at 2022-11-26 13:31:13\n",
      "-0.0737061 + 4 - 6\n",
      "script continue running at 2022-11-26 13:31:17\n",
      "-0.0737061 + 4 - 6\n",
      "script continue running at 2022-11-26 13:31:21\n",
      "-0.0737061 + 4 - 6\n",
      "script continue running at 2022-11-26 13:31:25\n",
      "-0.0737061 + 4 - 6\n",
      "script continue running at 2022-11-26 13:31:29\n",
      "-0.0737061 + 4 - 6\n",
      "script continue running at 2022-11-26 13:31:33\n",
      "-0.0737061 + 4 - 6\n",
      "script continue running at 2022-11-26 13:31:37\n",
      "-0.0737061 + 4 - 6\n",
      "script continue running at 2022-11-26 13:31:41\n",
      "-0.0737061 + 4 - 6\n",
      "script continue running at 2022-11-26 13:31:49\n",
      "-0.0737061 + 4 - 6\n",
      "script continue running at 2022-11-26 13:31:53\n",
      "-0.0737061 + 4 - 6\n",
      "script continue running at 2022-11-26 13:31:57\n",
      "-0.0737061 + 4 - 6\n",
      "script continue running at 2022-11-26 13:32:01\n",
      "-0.0737061 + 4 - 6\n",
      "script continue running at 2022-11-26 13:32:05\n",
      "-0.0737061 + 4 - 6\n",
      "script continue running at 2022-11-26 13:32:09\n",
      "-0.0737061 + 4 - 6\n",
      "script continue running at 2022-11-26 13:32:13\n",
      "-0.0737061 + 4 - 6\n",
      "script continue running at 2022-11-26 13:32:17\n",
      "-0.0737061 + 4 - 6\n",
      "script continue running at 2022-11-26 13:32:21\n",
      "-0.0737061 + 4 - 6\n",
      "script continue running at 2022-11-26 13:32:25\n",
      "-0.0737061 + 4 - 6\n",
      "script continue running at 2022-11-26 13:32:29\n",
      "-0.0737061 + 4 - 6\n",
      "script continue running at 2022-11-26 13:32:33\n",
      "-0.0737061 + 4 - 6\n",
      "script continue running at 2022-11-26 13:32:37\n",
      "-0.0737061 + 4 - 6\n",
      "script continue running at 2022-11-26 13:32:41\n",
      "-0.0737061 + 4 - 6\n",
      "script continue running at 2022-11-26 13:32:45\n",
      "-0.0737061 + 4 - 6\n",
      "script continue running at 2022-11-26 13:32:49\n",
      "-0.0737061 + 4 - 6\n",
      "script continue running at 2022-11-26 13:32:53\n",
      "-0.0737061 + 4 - 6\n",
      "script continue running at 2022-11-26 13:32:57\n",
      "-0.0737061 + 4 - 6\n",
      "script continue running at 2022-11-26 13:33:01\n",
      "-0.0737061 + 4 - 6\n",
      "script continue running at 2022-11-26 13:33:05\n",
      "-0.0737061 + 4 - 6\n",
      "script continue running at 2022-11-26 13:33:09\n",
      "-0.0737061 + 4 - 6\n",
      "script continue running at 2022-11-26 13:33:13\n",
      "-0.0737061 + 4 - 6\n",
      "script continue running at 2022-11-26 13:33:17\n",
      "-0.0737061 + 4 - 6\n",
      "script continue running at 2022-11-26 13:33:21\n",
      "-0.0737061 + 4 - 6\n",
      "script continue running at 2022-11-26 13:33:25\n",
      "-0.0737061 + 4 - 6\n",
      "script continue running at 2022-11-26 13:33:33\n",
      "-0.0737061 + 4 - 6\n",
      "script continue running at 2022-11-26 13:33:37\n",
      "-0.0737061 + 4 - 6\n",
      "script continue running at 2022-11-26 13:33:41\n",
      "-0.0737061 + 4 - 6\n",
      "script continue running at 2022-11-26 13:33:45\n",
      "-0.0737061 + 4 - 6\n",
      "script continue running at 2022-11-26 13:33:49\n",
      "-0.0737061 + 4 - 6\n",
      "script continue running at 2022-11-26 13:33:53\n",
      "-0.0737061 + 4 - 6\n",
      "script continue running at 2022-11-26 13:33:57\n",
      "-0.0737061 + 4 - 6\n",
      "script continue running at 2022-11-26 13:34:01\n",
      "-0.0737061 + 4 - 6\n",
      "script continue running at 2022-11-26 13:34:05\n",
      "-0.0737061 + 4 - 6\n",
      "script continue running at 2022-11-26 13:34:09\n",
      "-0.0737061 + 4 - 6\n",
      "script continue running at 2022-11-26 13:34:13\n",
      "-0.0737061 + 4 - 6\n",
      "script continue running at 2022-11-26 13:34:17\n",
      "-0.0737061 + 4 - 6\n",
      "script continue running at 2022-11-26 13:34:21\n",
      "-0.0737061 + 4 - 6\n",
      "script continue running at 2022-11-26 13:34:25\n",
      "-0.0737061 + 4 - 6\n",
      "script continue running at 2022-11-26 13:34:33\n",
      "-0.0737061 + 4 - 6\n",
      "script continue running at 2022-11-26 13:34:37\n",
      "-0.0737061 + 4 - 6\n",
      "script continue running at 2022-11-26 13:34:41\n",
      "-0.0737061 + 4 - 6\n",
      "script continue running at 2022-11-26 13:34:45\n",
      "-0.0737061 + 4 - 6\n",
      "script continue running at 2022-11-26 13:34:49\n",
      "-0.0737061 + 4 - 6\n",
      "script continue running at 2022-11-26 13:34:53\n",
      "-0.0737061 + 4 - 6\n",
      "script continue running at 2022-11-26 13:34:57\n",
      "-0.0737061 + 4 - 6\n",
      "script continue running at 2022-11-26 13:35:01\n",
      "-0.0737061 + 4 - 6\n",
      "script continue running at 2022-11-26 13:35:05\n",
      "-0.0737061 + 4 - 6\n",
      "script continue running at 2022-11-26 13:35:09\n",
      "-0.0737061 + 4 - 6\n",
      "script continue running at 2022-11-26 13:35:13\n",
      "-0.0737061 + 4 - 6\n",
      "script continue running at 2022-11-26 13:35:17\n",
      "-0.0737061 + 4 - 6\n",
      "script continue running at 2022-11-26 13:35:21\n",
      "-0.0737061 + 4 - 6\n",
      "No positions\n",
      "script continue running at 2022-11-26 13:35:29\n",
      "Direction SHORT again\n",
      "\n",
      "\n",
      "Something went wrong. Continuing...\n",
      "SHORT order opened price:16568.5\n",
      "LONG order opened price:16601.7\n",
      "SHORT tp order opened price:16492.5\n",
      "SHORT sl order opened price:16621.9\n",
      "\n",
      "\n",
      "SL long not open...\n",
      "\n",
      "\n",
      "TP long not open...\n",
      "\n",
      "\n",
      "SL short not open...\n",
      "SHORT sl order opened price:16641.8\n",
      "\n",
      "\n",
      "Tp short not open...\n",
      "\n",
      "\n",
      "SL long not open...\n",
      "\n",
      "\n",
      "SL long not open...\n",
      "LONG sl order opened price:16539.0\n",
      "LONG sl order opened price:16519.1\n",
      "LONG tp order opened price:16638.5\n",
      "script continue running at 2022-11-26 13:35:33\n",
      "-0.08989890000000002 + 5 - 7\n",
      "script continue running at 2022-11-26 13:35:37\n",
      "-0.08989890000000002 + 5 - 7\n",
      "script continue running at 2022-11-26 13:35:41\n",
      "-0.08989890000000002 + 5 - 7\n",
      "script continue running at 2022-11-26 13:35:45\n",
      "-0.08989890000000002 + 5 - 7\n",
      "script continue running at 2022-11-26 13:35:49\n",
      "-0.08989890000000002 + 5 - 7\n",
      "script continue running at 2022-11-26 13:35:53\n",
      "-0.08989890000000002 + 5 - 7\n",
      "script continue running at 2022-11-26 13:35:57\n",
      "-0.08989890000000002 + 5 - 7\n"
     ]
    }
   ],
   "source": [
    "start_stop()"
   ]
  },
  {
   "cell_type": "code",
   "execution_count": null,
   "metadata": {},
   "outputs": [],
   "source": []
  }
 ],
 "metadata": {
  "kernelspec": {
   "display_name": "Python 3 (ipykernel)",
   "language": "python",
   "name": "python3"
  },
  "language_info": {
   "codemirror_mode": {
    "name": "ipython",
    "version": 3
   },
   "file_extension": ".py",
   "mimetype": "text/x-python",
   "name": "python",
   "nbconvert_exporter": "python",
   "pygments_lexer": "ipython3",
   "version": "3.9.12"
  }
 },
 "nbformat": 4,
 "nbformat_minor": 4
}
