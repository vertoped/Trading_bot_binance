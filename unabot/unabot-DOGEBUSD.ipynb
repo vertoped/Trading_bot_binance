{
 "cells": [
  {
   "cell_type": "code",
   "execution_count": 1,
   "metadata": {},
   "outputs": [],
   "source": [
    "import requests\n",
    "import numpy as np\n",
    "import pandas as pd\n",
    "import statsmodels.api as sm\n",
    "import matplotlib.pyplot as plt\n",
    "import copy\n",
    "import time\n",
    "import random\n",
    "import threading\n",
    "import coinconfig\n",
    "\n",
    "from binance import Client, ThreadedWebsocketManager, ThreadedDepthCacheManager\n",
    "from binance.helpers import round_step_size\n",
    "from futures_sign import send_signed_request, send_public_request\n",
    "from cred import KEY, SECRET"
   ]
  },
  {
   "cell_type": "code",
   "execution_count": 2,
   "metadata": {},
   "outputs": [],
   "source": [
    "#0:BTCBUSD, 1:BTCUSDT, 2:DOGEUSDT, 3:DOGEBUSD, 4:ETHBUSD, 5:ETHUSDT, 6:EOSUSDT, 7:LTCUSDT, 8:BNBBUSD"
   ]
  },
  {
   "cell_type": "code",
   "execution_count": 3,
   "metadata": {},
   "outputs": [],
   "source": [
    "client = Client(KEY, SECRET, testnet=False)\n",
    "config=coinconfig.tradeconfig\n",
    "coin=coinconfig.coinlist[3]"
   ]
  },
  {
   "cell_type": "code",
   "execution_count": 4,
   "metadata": {},
   "outputs": [],
   "source": [
    "symbol=coin[\"symbol\"]\n",
    "asset=coin[\"asset\"]\n",
    "recvWindow=config[\"recvWindow\"]\n",
    "dualSidePosition=config[\"dualSidePosition\"]\n",
    "marginType=config[\"marginType\"]\n",
    "\n",
    "leverage=coin[\"leverage\"]\n",
    "roundity=coin[\"roundity\"]\n",
    "profit_percent=coin[\"profit_percent\"]\n",
    "diference=coin[\"diference\"]\n",
    "stop_percent=profit_percent+diference\n",
    "balance_part=coin[\"balance_part\"]\n",
    "compensation=coin[\"compensation\"]\n",
    "ingebit=2"
   ]
  },
  {
   "cell_type": "code",
   "execution_count": 5,
   "metadata": {
    "tags": []
   },
   "outputs": [
    {
     "data": {
      "text/plain": [
       "{'symbol': 'DOGEBUSD', 'leverage': 20, 'maxNotionalValue': '100000'}"
      ]
     },
     "execution_count": 5,
     "metadata": {},
     "output_type": "execute_result"
    }
   ],
   "source": [
    "client.futures_change_leverage(symbol=symbol, leverage=leverage, recvWindow=recvWindow)"
   ]
  },
  {
   "cell_type": "code",
   "execution_count": 6,
   "metadata": {
    "tags": []
   },
   "outputs": [],
   "source": [
    "# Margin type\n",
    "def margin_type_to_isolated():\n",
    "    status = client.futures_account()\n",
    "    positions=pd.DataFrame(status['positions'])\n",
    "    body=positions[positions['symbol']==symbol]['isolated'].astype(bool).tolist()[0]\n",
    "\n",
    "    if body==True:\n",
    "        client.futures_change_margin_type(symbol=symbol, marginType=marginType, recvWindow=recvWindow)\n",
    "        print(f'Changed to {marginType}')\n",
    "    else:\n",
    "        print(f'Already {marginType}')"
   ]
  },
  {
   "cell_type": "code",
   "execution_count": 7,
   "metadata": {
    "tags": []
   },
   "outputs": [
    {
     "name": "stdout",
     "output_type": "stream",
     "text": [
      "Already CROSSED\n"
     ]
    }
   ],
   "source": [
    "margin_type_to_isolated()"
   ]
  },
  {
   "cell_type": "code",
   "execution_count": 8,
   "metadata": {
    "tags": []
   },
   "outputs": [],
   "source": [
    "# Hedge mode turn on\n",
    "\n",
    "def hedge_mode_turn_on():\n",
    "    status=client.futures_get_position_mode() \n",
    "    if status['dualSidePosition']==False:\n",
    "        client.futures_change_position_mode(dualSidePosition=dualSidePosition, recvWindow=recvWindow)\n",
    "        client.futures_get_position_mode()\n",
    "        print('Dual turned on')\n",
    "    else:\n",
    "        print('Already Dual')\n",
    "    return(status['dualSidePosition'])"
   ]
  },
  {
   "cell_type": "code",
   "execution_count": 9,
   "metadata": {},
   "outputs": [
    {
     "name": "stdout",
     "output_type": "stream",
     "text": [
      "Already Dual\n"
     ]
    },
    {
     "data": {
      "text/plain": [
       "True"
      ]
     },
     "execution_count": 9,
     "metadata": {},
     "output_type": "execute_result"
    }
   ],
   "source": [
    "hedge_mode_turn_on()"
   ]
  },
  {
   "cell_type": "code",
   "execution_count": 10,
   "metadata": {},
   "outputs": [],
   "source": [
    "def get_assetbalance(symbol):\n",
    "    status = client.futures_account()\n",
    "    balance = pd.DataFrame(status['assets'])\n",
    "    assetbalance = float(balance.loc[balance['asset'] == asset, 'availableBalance'])\n",
    "    return(assetbalance)"
   ]
  },
  {
   "cell_type": "code",
   "execution_count": 11,
   "metadata": {
    "tags": []
   },
   "outputs": [],
   "source": [
    "# Find all opened positions\n",
    "\n",
    "def get_opened_positions(symbol):\n",
    "    status = client.futures_account()\n",
    "    positions=pd.DataFrame(status['positions'])\n",
    "    open_positions=positions[positions['symbol']==symbol]\n",
    "    long_position=float(open_positions[open_positions['positionSide']=='LONG']['entryPrice'])\n",
    "    short_position=float(open_positions[open_positions['positionSide']=='SHORT']['entryPrice'])\n",
    "\n",
    "    return([long_position,short_position])"
   ]
  },
  {
   "cell_type": "code",
   "execution_count": 12,
   "metadata": {},
   "outputs": [],
   "source": [
    "def get_quant(symbol):\n",
    "    status = client.futures_account()\n",
    "    positions=pd.DataFrame(status['positions'])\n",
    "    open_positions=positions[positions['symbol']==symbol]\n",
    "    quant=float(open_positions[open_positions['positionSide']=='LONG']['positionAmt'])\n",
    "    if quant==0:\n",
    "        quant=abs(float(open_positions[open_positions['positionSide']=='SHORT']['positionAmt']))\n",
    "    return(quant)"
   ]
  },
  {
   "cell_type": "code",
   "execution_count": 13,
   "metadata": {},
   "outputs": [
    {
     "data": {
      "text/plain": [
       "0.0"
      ]
     },
     "execution_count": 13,
     "metadata": {},
     "output_type": "execute_result"
    }
   ],
   "source": [
    "get_quant(symbol)"
   ]
  },
  {
   "cell_type": "code",
   "execution_count": 14,
   "metadata": {
    "tags": []
   },
   "outputs": [],
   "source": [
    "# Close all orders \n",
    "\n",
    "def check_and_close_orders(symbol):\n",
    "    global isStop \n",
    "    a=client.futures_get_open_orders(symbol=symbol)\n",
    "    if len(a)>0:\n",
    "        isStop = False\n",
    "        client.futures_cancel_all_open_orders(symbol=symbol)"
   ]
  },
  {
   "cell_type": "code",
   "execution_count": 15,
   "metadata": {
    "tags": []
   },
   "outputs": [],
   "source": [
    "def get_symbol_price(symbol):\n",
    "    prices = client.get_all_tickers()\n",
    "    df=pd.DataFrame(prices)\n",
    "    return float(df[ df['symbol']==symbol]['price'])"
   ]
  },
  {
   "cell_type": "code",
   "execution_count": 16,
   "metadata": {},
   "outputs": [
    {
     "data": {
      "text/plain": [
       "0.08176"
      ]
     },
     "execution_count": 16,
     "metadata": {},
     "output_type": "execute_result"
    }
   ],
   "source": [
    "get_symbol_price(symbol)"
   ]
  },
  {
   "cell_type": "code",
   "execution_count": 17,
   "metadata": {
    "tags": []
   },
   "outputs": [],
   "source": [
    "#получить tick size\n",
    "\n",
    "def get_tick_size(symbol):\n",
    "    data = client.futures_exchange_info()\n",
    "    tick_size = 0.0\n",
    "    the_symbol = symbol\n",
    "\n",
    "    found = False\n",
    "    info = data['symbols']\n",
    "    for s in range(len(info)):\n",
    "        if info[s]['symbol'] == the_symbol:\n",
    "            filters = info[s]['filters']\n",
    "            for f in range(len(filters)):\n",
    "                if filters[f]['filterType'] == 'PRICE_FILTER':\n",
    "                    tick_size = float(filters[f]['tickSize'])\n",
    "                    found = True\n",
    "                    break\n",
    "            break\n",
    "    return(tick_size)"
   ]
  },
  {
   "cell_type": "code",
   "execution_count": 18,
   "metadata": {},
   "outputs": [
    {
     "data": {
      "text/plain": [
       "'125.0'"
      ]
     },
     "execution_count": 18,
     "metadata": {},
     "output_type": "execute_result"
    }
   ],
   "source": [
    "#Trade config\n",
    "\n",
    "# maxposition=0.016 #1 = 100% = 1 BTC,\n",
    "asset_balance=get_assetbalance(symbol)\n",
    "symbol_price=get_symbol_price(symbol)\n",
    "maxposition=round(asset_balance*balance_part*leverage/symbol_price,3)\n",
    "quantity=str(round(maxposition/2,roundity))\n",
    "tick_size=get_tick_size(symbol)\n",
    "symbolround=abs(str(tick_size).find('.') - len(str(tick_size))) - 1\n",
    "quantity"
   ]
  },
  {
   "cell_type": "code",
   "execution_count": 19,
   "metadata": {
    "tags": []
   },
   "outputs": [],
   "source": [
    "#Stop loss LONG \n",
    "def open_sl_long(symbol,quant,tick_size,profit_percent,stop_percent):\n",
    "    try:\n",
    "        positions=get_opened_positions(symbol)\n",
    "        entry_price=positions[0]\n",
    "        stop_price_trigger=str(round(float(entry_price)*(1-stop_percent), symbolround))\n",
    "        stop_price=str(round(float(stop_price_trigger)*0.9999, symbolround))\n",
    "        tick=str(tick_size)\n",
    "        params = {\n",
    "            \"batchOrders\": [\n",
    "                {\n",
    "                    \"symbol\":symbol,\n",
    "                    \"side\": \"SELL\",\n",
    "                    \"positionSide\": \"LONG\",\n",
    "                    \"type\": \"STOP\",\n",
    "                    \"quantity\": quant,\n",
    "                    \"timeInForce\":\"GTE_GTC\",\n",
    "                    \"tickSize\": tick,\n",
    "                    \"stopPrice\": stop_price_trigger,\n",
    "                    \"price\": stop_price\n",
    "                }\n",
    "            ]\n",
    "        }\n",
    "\n",
    "        open_position_sl_long_response=send_signed_request('POST', '/fapi/v1/batchOrders', params)\n",
    "        long_sl_opened=float(open_position_sl_long_response[0]['price'])\n",
    "        print('LONG sl order opened price:'+str(long_sl_opened))\n",
    "        return(long_sl_opened)\n",
    "    \n",
    "    except :\n",
    "        print('\\n\\nSL long not open...')\n",
    "        "
   ]
  },
  {
   "cell_type": "code",
   "execution_count": 20,
   "metadata": {
    "tags": []
   },
   "outputs": [],
   "source": [
    "#Take Profit LONG \n",
    "\n",
    "def open_tp_long(symbol,quant,tick_size,profit_percent,stop_percent):\n",
    "    try:\n",
    "        positions=get_opened_positions(symbol)\n",
    "        entry_price=positions[0]\n",
    "        take_price_trigger=str(round(float(entry_price)*(1+profit_percent), symbolround))\n",
    "        take_price=str(round(float(take_price_trigger)*0.9999, symbolround))\n",
    "        tick=str(tick_size)\n",
    "        params = {\n",
    "            \"batchOrders\": [\n",
    "                {\n",
    "                    \"symbol\":symbol,\n",
    "                    \"side\": \"SELL\",\n",
    "                    \"positionSide\": \"LONG\",\n",
    "                    \"type\": \"TAKE_PROFIT\",\n",
    "                    \"quantity\": quant,\n",
    "                    \"timeInForce\":\"GTE_GTC\",\n",
    "                    \"tickSize\": tick,\n",
    "                    \"stopPrice\": take_price_trigger,\n",
    "                    \"price\": take_price\n",
    "                }\n",
    "            ]\n",
    "        }\n",
    "        open_position_tp_long_response=send_signed_request('POST', '/fapi/v1/batchOrders', params)\n",
    "        long_tp_opened=float(open_position_tp_long_response[0]['price'])\n",
    "        print('LONG tp order opened price:'+str(long_tp_opened))\n",
    "        return(long_tp_opened)\n",
    "        \n",
    "    except :\n",
    "        print('\\n\\nTP long not open...')"
   ]
  },
  {
   "cell_type": "code",
   "execution_count": 21,
   "metadata": {},
   "outputs": [],
   "source": [
    "#Открыть sl&tp LONG если есть позиция\n",
    "\n",
    "def long_tp_sl_opening(symbol,quant,profit_percent,stop_percent):\n",
    "    position=get_opened_positions(symbol)\n",
    "    if position[0]>0:\n",
    "        orders=client.futures_get_open_orders(symbol=symbol)\n",
    "        orders_df=pd.DataFrame(orders)\n",
    "        if orders_df.empty:\n",
    "            x = threading.Thread(target=open_tp_long, args=(symbol,quant,tick_size,profit_percent,stop_percent))\n",
    "            x.start()\n",
    "            y = threading.Thread(target=open_sl_long, args=(symbol,quant,tick_size,profit_percent,stop_percent))\n",
    "            y.start()\n",
    "        else:\n",
    "            order_long=orders_df[orders_df['positionSide']=='LONG']\n",
    "            long_tp=order_long[order_long['origType']=='TAKE_PROFIT']['price']\n",
    "            long_sl=order_long[order_long['origType']=='STOP']['price']\n",
    "            if (long_tp+long_sl).empty:\n",
    "                x = threading.Thread(target=open_tp_long, args=(symbol,quant,tick_size,profit_percent,stop_percent))\n",
    "                x.start()\n",
    "                y = threading.Thread(target=open_sl_long, args=(symbol,quant,tick_size,profit_percent,stop_percent))\n",
    "                y.start()\n",
    "            else:\n",
    "                print('LONG SL TP iteration continious..')"
   ]
  },
  {
   "cell_type": "code",
   "execution_count": 22,
   "metadata": {
    "tags": []
   },
   "outputs": [],
   "source": [
    "#Открыть позицию LONG \n",
    "\n",
    "def open_position_long(symbol,quantity,tick_size,profit_percent,stop_percent):\n",
    "    sprice=get_symbol_price(symbol)\n",
    "    close_price=str(round(sprice*(1+0.002),symbolround))\n",
    "    tick=str(tick_size)\n",
    "    params = {\n",
    "        \"batchOrders\": [\n",
    "            {\n",
    "                \"symbol\":symbol,\n",
    "                \"side\": \"BUY\",\n",
    "                \"positionSide\": \"LONG\",\n",
    "                \"type\": \"LIMIT\",\n",
    "                \"quantity\": quantity,\n",
    "                \"timeInForce\":\"GTC\",\n",
    "                \"tickSize\": tick,\n",
    "                \"price\": close_price        \n",
    "            }\n",
    "        ]\n",
    "    }\n",
    "    open_position_long_response=send_signed_request('POST', '/fapi/v1/batchOrders', params)\n",
    "    long_opened=float(open_position_long_response[0]['price'])\n",
    "    print('LONG order opened price:'+str(long_opened))\n",
    "    if long_opened>0:\n",
    "        long_tp_sl=long_tp_sl_opening(symbol,quantity,profit_percent,stop_percent)\n",
    "    return(long_opened,long_tp_sl)"
   ]
  },
  {
   "cell_type": "code",
   "execution_count": 23,
   "metadata": {
    "tags": []
   },
   "outputs": [],
   "source": [
    "#Stop loss SHORT \n",
    "\n",
    "def open_sl_short(symbol,quant,tick_size,profit_percent,stop_percent):\n",
    "    try:\n",
    "        positions=get_opened_positions(symbol)\n",
    "        entry_price=positions[1]\n",
    "        stop_price_trigger=str(round(float(entry_price)*(1+stop_percent), symbolround))\n",
    "        stop_price=str(round(float(stop_price_trigger)*1.0001, symbolround))\n",
    "        tick=str(tick_size)\n",
    "        params = {\n",
    "            \"batchOrders\": [\n",
    "                {\n",
    "                    \"symbol\":symbol,\n",
    "                    \"side\": \"BUY\",\n",
    "                    \"positionSide\": \"SHORT\",\n",
    "                    \"type\": \"STOP\",\n",
    "                    \"quantity\": quant,\n",
    "                    \"timeInForce\":\"GTE_GTC\",\n",
    "                    \"tickSize\": tick,\n",
    "                    \"stopPrice\": stop_price_trigger,\n",
    "                    \"price\": stop_price\n",
    "                }\n",
    "            ]\n",
    "        }\n",
    "        \n",
    "        open_position_sl_short_response=send_signed_request('POST', '/fapi/v1/batchOrders', params)\n",
    "        short_sl_opened=float(open_position_sl_short_response[0]['price'])\n",
    "        print('SHORT sl order opened price:'+str(short_sl_opened))\n",
    "        return(short_sl_opened)\n",
    "    \n",
    "    except :\n",
    "        print('\\n\\nSL short not open...')\n"
   ]
  },
  {
   "cell_type": "code",
   "execution_count": 24,
   "metadata": {
    "tags": []
   },
   "outputs": [],
   "source": [
    "#Take Profit SHORT\n",
    "\n",
    "def open_tp_short(symbol,quant,tick_size,profit_percent,stop_percent):\n",
    "    try:\n",
    "        positions=get_opened_positions(symbol)\n",
    "        entry_price=positions[1]\n",
    "        take_price_trigger=str(round(float(entry_price)*(1-profit_percent), symbolround))\n",
    "        take_price=str(round(float(take_price_trigger)*1.0001, symbolround))\n",
    "        tick=str(tick_size)\n",
    "        params = {\n",
    "            \"batchOrders\": [\n",
    "                {\n",
    "                    \"symbol\":symbol,\n",
    "                    \"side\": \"BUY\",\n",
    "                    \"positionSide\": \"SHORT\",\n",
    "                    \"type\": \"TAKE_PROFIT\",\n",
    "                    \"quantity\": quant,\n",
    "                    \"timeInForce\":\"GTE_GTC\",\n",
    "                    \"tickSize\": tick,\n",
    "                    \"stopPrice\": take_price_trigger,\n",
    "                    \"price\": take_price\n",
    "                }\n",
    "            ]\n",
    "        }\n",
    "\n",
    "        open_position_tp_short_response=send_signed_request('POST', '/fapi/v1/batchOrders', params)\n",
    "        short_tp_opened=float(open_position_tp_short_response[0]['price'])\n",
    "        print('SHORT tp order opened price:'+str(short_tp_opened))\n",
    "        return(short_tp_opened)\n",
    "    \n",
    "    except :\n",
    "        print('\\n\\nTp short not open...')\n"
   ]
  },
  {
   "cell_type": "code",
   "execution_count": 25,
   "metadata": {},
   "outputs": [],
   "source": [
    "#Открыть sl&tp SHORT если есть позиция\n",
    "       \n",
    "def short_tp_sl_opening(symbol,quant,profit_percent,stop_percent):\n",
    "    position=get_opened_positions(symbol)\n",
    "    if position[1]>0:\n",
    "        orders=client.futures_get_open_orders(symbol=symbol)\n",
    "        orders_df=pd.DataFrame(orders)\n",
    "        if orders_df.empty:\n",
    "            x = threading.Thread(target=open_tp_short, args=(symbol,quant,tick_size,profit_percent,stop_percent))\n",
    "            x.start()\n",
    "            y = threading.Thread(target=open_sl_short, args=(symbol,quant,tick_size,profit_percent,stop_percent))\n",
    "            y.start()\n",
    "        else:\n",
    "            order_short=orders_df[orders_df['positionSide']=='SHORT']\n",
    "            short_tp=order_short[order_short['origType']=='TAKE_PROFIT']['price']\n",
    "            short_sl=order_short[order_short['origType']=='STOP']['price']\n",
    "            if (short_tp+short_sl).empty:\n",
    "                x = threading.Thread(target=open_tp_short, args=(symbol,quant,tick_size,profit_percent,stop_percent))\n",
    "                x.start()\n",
    "                y = threading.Thread(target=open_sl_short, args=(symbol,quant,tick_size,profit_percent,stop_percent))\n",
    "                y.start()\n",
    "            else:\n",
    "                print('SHORT SL TP iteration continious..')"
   ]
  },
  {
   "cell_type": "code",
   "execution_count": 26,
   "metadata": {
    "tags": []
   },
   "outputs": [],
   "source": [
    "#Открыть позицию SHORT\n",
    "\n",
    "def open_position_short(symbol,quantity,tick_size,profit_percent,stop_percent):\n",
    "    sprice=get_symbol_price(symbol)\n",
    "    close_price=str(round(sprice*(1-0.002),symbolround))\n",
    "    tick=str(tick_size)\n",
    "    params = {\n",
    "        \"batchOrders\": [\n",
    "            {\n",
    "                \"symbol\":symbol,\n",
    "                \"side\": \"SELL\",\n",
    "                \"positionSide\": \"SHORT\",\n",
    "                \"type\": \"LIMIT\",\n",
    "                \"quantity\": quantity,\n",
    "                \"timeInForce\":\"GTC\",\n",
    "                \"tickSize\": tick,\n",
    "                \"price\": close_price        \n",
    "            }\n",
    "        ]\n",
    "    }\n",
    "    open_position_short_response=send_signed_request('POST', '/fapi/v1/batchOrders', params)\n",
    "    short_opened=float(open_position_short_response[0]['price'])\n",
    "    print('SHORT order opened price:'+str(short_opened))\n",
    "    if short_opened>0:\n",
    "        short_tp_sl=short_tp_sl_opening(symbol,quantity,profit_percent,stop_percent)\n",
    "    return(short_opened,short_tp_sl)"
   ]
  },
  {
   "cell_type": "code",
   "execution_count": 30,
   "metadata": {},
   "outputs": [],
   "source": [
    "def get_profit(symbol):\n",
    "    trades = client.futures_account_trades(symbol=symbol)\n",
    "    dataset=pd.DataFrame(trades).iloc[-80:]\n",
    "    bnbcom=dataset[dataset['commissionAsset']=='BNB']['commission'].astype(float).sum()\n",
    "    busdcom=dataset[dataset['commissionAsset']==asset]['commission'].astype(float).sum()\n",
    "    com=(bnbcom*270+busdcom)*-1\n",
    "    real=dataset['realizedPnl'].astype(float).sum()\n",
    "    profit=float(com+real)\n",
    "    print(profit)"
   ]
  },
  {
   "cell_type": "code",
   "execution_count": 31,
   "metadata": {},
   "outputs": [
    {
     "name": "stdout",
     "output_type": "stream",
     "text": [
      "-0.12097968\n"
     ]
    }
   ],
   "source": [
    "get_profit(symbol)"
   ]
  },
  {
   "cell_type": "code",
   "execution_count": 29,
   "metadata": {},
   "outputs": [],
   "source": [
    "def get_direction(symbol):\n",
    "    trades = client.futures_account_trades(symbol=symbol)[-8:]\n",
    "    dataset = pd.DataFrame(trades).iloc[::-1]\n",
    "    resrow = dataset[dataset.realizedPnl == '0'].index[0]\n",
    "    dataset=dataset.truncate(before=resrow)\n",
    "    resdata = dataset['realizedPnl'][-resrow:].astype(float).sum()\n",
    "    direction=1\n",
    "    if resdata < 0.005:\n",
    "        direction=0\n",
    "    return(direction)"
   ]
  },
  {
   "cell_type": "code",
   "execution_count": 30,
   "metadata": {},
   "outputs": [
    {
     "data": {
      "text/plain": [
       "0"
      ]
     },
     "execution_count": 30,
     "metadata": {},
     "output_type": "execute_result"
    }
   ],
   "source": [
    "get_direction(symbol)"
   ]
  },
  {
   "cell_type": "code",
   "execution_count": 31,
   "metadata": {},
   "outputs": [],
   "source": [
    "def check_one_stop(symbol):\n",
    "    orders=client.futures_get_open_orders(symbol=symbol)\n",
    "    df=pd.DataFrame(orders)\n",
    "    if len(df.index)==2:\n",
    "        quant=str(get_quant(symbol))\n",
    "        positions=get_opened_positions(symbol)\n",
    "        price=get_symbol_price(symbol)\n",
    "        if positions[0]==0: #если остался шорт, то цена закрытия не должна быть выше чем (цена входа *(1- процент компенсации) \n",
    "            compensation_price=positions[1]#*(1-(stop_percent*compensation))\n",
    "            print('SHORT compansation stage')\n",
    "            if price > compensation_price: #если шорт отрос\n",
    "                params={ \n",
    "                    \"batchOrders\": [\n",
    "                        {\n",
    "                            \"symbol\":symbol, \n",
    "                            \"positionSide\": \"SHORT\", \n",
    "                            \"side\":'BUY', \n",
    "                            \"type\":'MARKET',\n",
    "                            \"quantity\":quant\n",
    "                        }\n",
    "                    ]\n",
    "                }\n",
    "                one_stop=send_signed_request('POST', '/fapi/v1/batchOrders', params)\n",
    "                if str(float(one_stop[0]['origQty']))==quant:\n",
    "                    print(f'Compensation SHORT price {compensation_price}')\n",
    "            else:\n",
    "                print('One step for SHORT not in compensation condition')\n",
    "        if positions[1]==0:\n",
    "            compensation_price=positions[0]#*(1+(stop_percent*compensation))\n",
    "            print('LONG compansation stage')\n",
    "            if price < compensation_price: #если лонг упал\n",
    "                params={ \n",
    "                    \"batchOrders\": [\n",
    "                        {\n",
    "                            \"symbol\":symbol, \n",
    "                            \"positionSide\": \"LONG\", \n",
    "                            \"side\":'SELL', \n",
    "                            \"type\":'MARKET',\n",
    "                            \"quantity\":quant\n",
    "                        }\n",
    "                    ]\n",
    "                }\n",
    "                one_stop=send_signed_request('POST', '/fapi/v1/batchOrders', params)\n",
    "                if str(float(one_stop[0]['origQty']))==quant:\n",
    "                    print(f'Compensation LONG price {compensation_price}')\n",
    "            else:\n",
    "                print('One step for LONG not in compensation condition')\n"
   ]
  },
  {
   "cell_type": "code",
   "execution_count": 32,
   "metadata": {},
   "outputs": [],
   "source": [
    "def check_compensation(symbol):\n",
    "    if get_quant(symbol)*ingebit==float(quantity):\n",
    "        check_one_stop(symbol)"
   ]
  },
  {
   "cell_type": "code",
   "execution_count": 33,
   "metadata": {},
   "outputs": [],
   "source": [
    "def changer(symbol):\n",
    "    direction=get_direction(symbol)\n",
    "    f = open(\"directdoc.txt\", \"r\")\n",
    "    direc=f.read()\n",
    "    if direction==0: #реверс \n",
    "        if direc=='0':\n",
    "            print('Direction switched from SHORT to LONG')\n",
    "            x = threading.Thread(target=open_position_long, args=(symbol,str(round(float(quantity)/ingebit)),tick_size,profit_percent,stop_percent/2))\n",
    "            x.start()\n",
    "            y = threading.Thread(target=open_position_short, args=(symbol,str(round(float(quantity)/ingebit)),tick_size,stop_percent/2,stop_percent/2))\n",
    "            y.start()\n",
    "            f = open(\"directdoc.txt\", \"w\")\n",
    "            f.write(\"1\")\n",
    "            f.close()\n",
    "        else:\n",
    "            x = threading.Thread(target=open_position_long, args=(symbol,str(round(float(quantity)/ingebit)),tick_size,stop_percent/2,stop_percent/2))\n",
    "            x.start()\n",
    "            y = threading.Thread(target=open_position_short, args=(symbol,str(round(float(quantity)/ingebit)),tick_size,profit_percent,stop_percent/2))\n",
    "            y.start()\n",
    "            print('Direction switched from LONG to SHORT')\n",
    "            f = open(\"directdoc.txt\", \"w\")\n",
    "            f.write(\"0\")\n",
    "            f.close()\n",
    "    else: #не меняем\n",
    "        if direc=='0':\n",
    "            target=open_position_short(symbol,quantity,tick_size,profit_percent,stop_percent)\n",
    "            print('Direction SHORT again')\n",
    "        else:\n",
    "            target=open_position_long(symbol,quantity,tick_size,profit_percent,stop_percent)\n",
    "            print('Direction LONG again')"
   ]
  },
  {
   "cell_type": "code",
   "execution_count": 34,
   "metadata": {},
   "outputs": [],
   "source": [
    "def check_positions_ready(symbol):\n",
    "    positions=get_opened_positions(symbol)\n",
    "    if positions[0] and positions[1] > 0:\n",
    "        orders=client.futures_get_open_orders(symbol=symbol)\n",
    "        orders_df=pd.DataFrame(orders)\n",
    "        if len(orders_df.index)==2:\n",
    "            quant=str(get_quant(symbol))\n",
    "            f = open(\"directdoc.txt\", \"r\")\n",
    "            direc=f.read()\n",
    "            if direc=='0':\n",
    "                if orders_df['positionSide'][0]=='SHORT':\n",
    "                # проверить, кто остался - добавить противоположный \n",
    "                    long_tp_sl_opening(symbol,quant,tick_size,tstop_percent/2,stop_percent/2)\n",
    "                else:\n",
    "                    short_tp_sl_opening(symbol,quant,tick_size,profit_percen,stop_percent/2)\n",
    "            else:\n",
    "                if orders_df['positionSide'][0]=='SHORT':\n",
    "                    long_tp_sl_opening(symbol,quant,tick_size,profit_percen,stop_percent/2)\n",
    "                else:\n",
    "                    short_tp_sl_opening(symbol,quant,tick_size,stop_percent/2,stop_percent/2)\n",
    "        else:\n",
    "            print('Positions exist, sl&tp stage..')"
   ]
  },
  {
   "cell_type": "code",
   "execution_count": 35,
   "metadata": {},
   "outputs": [],
   "source": [
    "def check_positions_new(symbol):\n",
    "    positions=get_opened_positions(symbol)\n",
    "    if positions[0]+positions[1]==0:\n",
    "        orders=client.futures_get_open_orders(symbol=symbol)\n",
    "        orders_df=pd.DataFrame(orders)\n",
    "        if orders_df.empty:\n",
    "            changer(symbol)"
   ]
  },
  {
   "cell_type": "code",
   "execution_count": 36,
   "metadata": {},
   "outputs": [],
   "source": [
    "def main(step):\n",
    "    #getTPSLfrom_telegram()\n",
    "    try:\n",
    "        x = threading.Thread(target=check_positions_new(symbol))\n",
    "        x.start()\n",
    "        y = threading.Thread(target=get_profit(symbol))\n",
    "        y.start()\n",
    "        z = threading.Thread(target=check_compensation(symbol))\n",
    "        z.start()\n",
    "        w = threading.Thread(target=check_positions_ready(symbol))\n",
    "        w.start()\n",
    "        \n",
    "    except :\n",
    "        print('\\n\\nSomething went wrong. Continuing...')"
   ]
  },
  {
   "cell_type": "code",
   "execution_count": 37,
   "metadata": {
    "tags": []
   },
   "outputs": [],
   "source": [
    "telegram_delay=12\n",
    "bot_token='5454990445:AAGzfeY80oeI-1su0MEIRVuvTzBYIVlZIXU'\n",
    "chat_id='92428939'\n",
    "\n",
    "def getTPSLfrom_telegram():\n",
    "    strr='https://api.telegram.org/bot'+bot_token+'/getUpdates'\n",
    "    response = requests.get(strr)\n",
    "    rs=response.json()\n",
    "    exit=0\n",
    "\n",
    "    if(len(rs['result'])>0):\n",
    "        rs2=rs['result'][-1]\n",
    "        rs3=rs2['message']\n",
    "        textt=rs3['text']\n",
    "        datet=rs3['date']        \n",
    "        if(time.time()-datet)<telegram_delay:\n",
    "            if 'exit' in textt:\n",
    "                exit=1\n",
    "                telegram_bot_sendtext('Right now! Sir')\n",
    "            if 'profit' in textt:\n",
    "                trades = client.futures_account_trades(symbol=symbol)\n",
    "                dataset=pd.DataFrame(trades).iloc[-50:]\n",
    "                bnbdata=dataset[dataset['commissionAsset']=='BNB']\n",
    "                busddata=dataset[dataset['commissionAsset']==asset]\n",
    "                bnbcom=bnbdata['commission'].astype(float).sum()\n",
    "                busdcom=busddata['commission'].astype(float).sum()\n",
    "                com=(bnbcom*270+busdcom)*-1\n",
    "                real=dataset['realizedPnl'].astype(float).sum()\n",
    "                profit=com+real\n",
    "                telegram_bot_sendtext('Profit = ' + str(profit))\n",
    "\n",
    "    return(exit)"
   ]
  },
  {
   "cell_type": "code",
   "execution_count": 38,
   "metadata": {},
   "outputs": [],
   "source": [
    "def telegram_bot_sendtext(bot_message):\n",
    "    bot_token2 = bot_token\n",
    "    bot_chatID = chat_id\n",
    "    send_text = 'https://api.telegram.org/bot' + bot_token2 + '/sendMessage?chat_id=' + bot_chatID + '&parse_mode=Markdown&text=' + bot_message\n",
    "    response = requests.get(send_text)\n",
    "    return response.json()"
   ]
  },
  {
   "cell_type": "code",
   "execution_count": 39,
   "metadata": {},
   "outputs": [],
   "source": [
    "def prt(message):\n",
    "    # telegram message\n",
    "    telegram_bot_sendtext(pointer+': '+message)\n",
    "    print(pointer+': '+message)"
   ]
  },
  {
   "cell_type": "code",
   "execution_count": 40,
   "metadata": {},
   "outputs": [],
   "source": [
    "def start_stop():\n",
    "    starttime=time.time()\n",
    "    counterr=1\n",
    "    timeout = time.time() + 60*60*6  # 60 seconds times 60 meaning the script will run for 12 hr\n",
    "    while time.time() <= timeout:\n",
    "        try:\n",
    "\n",
    "            print(\"script continue running at \"+time.strftime('%Y-%m-%d %H:%M:%S', time.localtime(time.time())))\n",
    "            main(counterr)\n",
    "            counterr=counterr+1\n",
    "            # stop=getTPSLfrom_telegram()\n",
    "            # if stop==1:\n",
    "            #     break\n",
    "            if counterr>3:\n",
    "                # break\n",
    "                counterr=1\n",
    "            time.sleep(6 - ((time.time() - starttime) % 6.0)) # 1 minute interval between each new execution\n",
    "        except KeyboardInterrupt:\n",
    "            print('\\n\\KeyboardInterrupt. Stopping.')\n",
    "        "
   ]
  },
  {
   "cell_type": "code",
   "execution_count": null,
   "metadata": {},
   "outputs": [
    {
     "name": "stdout",
     "output_type": "stream",
     "text": [
      "script continue running at 2022-11-09 10:56:30\n",
      "Direction switched from SHORT to LONG\n",
      "-0.02482137999999999\n",
      "LONG order opened price:0.08296SHORT order opened price:0.08262\n",
      "\n",
      "Positions exist, sl&tp stage..\n",
      "LONG sl order opened price:0.08249\n",
      "SHORT sl order opened price:0.0831\n",
      "LONG tp order opened price:0.08324\n",
      "SHORT tp order opened price:0.0825\n",
      "script continue running at 2022-11-09 10:56:36\n",
      "-0.000658739999999991\n",
      "Positions exist, sl&tp stage..\n",
      "script continue running at 2022-11-09 10:56:42\n",
      "-0.000658739999999991\n",
      "Positions exist, sl&tp stage..\n",
      "script continue running at 2022-11-09 10:56:48\n",
      "-0.000658739999999991\n",
      "Positions exist, sl&tp stage..\n",
      "script continue running at 2022-11-09 10:56:54\n",
      "-0.000658739999999991\n",
      "script continue running at 2022-11-09 10:57:00\n",
      "Direction switched from LONG to SHORT\n",
      "-0.03900686999999999\n",
      "LONG order opened price:0.08262\n",
      "SHORT order opened price:0.0823\n",
      "LONG sl order opened price:0.08211LONG tp order opened price:0.08271\n",
      "\n",
      "SHORT sl order opened price:0.08272\n",
      "SHORT tp order opened price:0.08197\n",
      "script continue running at 2022-11-09 10:57:06\n",
      "-0.03927153999999998\n",
      "Positions exist, sl&tp stage..\n",
      "script continue running at 2022-11-09 10:57:12\n",
      "-0.03927153999999998\n",
      "Positions exist, sl&tp stage..\n",
      "script continue running at 2022-11-09 10:57:18\n",
      "-0.03927153999999998\n",
      "Positions exist, sl&tp stage..\n",
      "script continue running at 2022-11-09 10:57:24\n",
      "-0.03927153999999998\n",
      "Positions exist, sl&tp stage..\n",
      "script continue running at 2022-11-09 10:57:30\n",
      "-0.03927153999999998\n",
      "Positions exist, sl&tp stage..\n",
      "script continue running at 2022-11-09 10:57:36\n",
      "-0.03927153999999998\n",
      "Positions exist, sl&tp stage..\n",
      "script continue running at 2022-11-09 10:57:42\n",
      "-0.03927153999999998\n",
      "Positions exist, sl&tp stage..\n",
      "script continue running at 2022-11-09 10:57:48\n",
      "-0.03927153999999998\n",
      "script continue running at 2022-11-09 10:57:54\n",
      "Direction switched from SHORT to LONG\n",
      "-0.02086783000000001\n",
      "LONG order opened price:0.0828\n",
      "SHORT order opened price:0.08246\n",
      "SHORT tp order opened price:0.08225\n",
      "SHORT sl order opened price:0.08285\n",
      "LONG sl order opened price:0.08224\n",
      "LONG tp order opened price:0.08299\n",
      "script continue running at 2022-11-09 10:58:00\n",
      "-0.04028759999999999\n",
      "Positions exist, sl&tp stage..\n",
      "script continue running at 2022-11-09 10:58:06\n",
      "-0.04028759999999999\n",
      "Positions exist, sl&tp stage..\n",
      "script continue running at 2022-11-09 10:58:12\n",
      "-0.04028759999999999\n",
      "Positions exist, sl&tp stage..\n",
      "script continue running at 2022-11-09 10:58:18\n",
      "-0.04028759999999999\n",
      "Positions exist, sl&tp stage..\n",
      "script continue running at 2022-11-09 10:58:24\n",
      "-0.04028759999999999\n",
      "Positions exist, sl&tp stage..\n",
      "script continue running at 2022-11-09 10:58:30\n",
      "-0.04028759999999999\n",
      "Positions exist, sl&tp stage..\n",
      "script continue running at 2022-11-09 10:58:36\n",
      "-0.04028759999999999\n",
      "Positions exist, sl&tp stage..\n",
      "script continue running at 2022-11-09 10:58:42\n",
      "-0.04028759999999999\n",
      "Positions exist, sl&tp stage..\n",
      "script continue running at 2022-11-09 10:58:48\n",
      "-0.04028759999999999\n",
      "Positions exist, sl&tp stage..\n",
      "script continue running at 2022-11-09 10:58:54\n",
      "-0.04028759999999999\n",
      "Positions exist, sl&tp stage..\n",
      "script continue running at 2022-11-09 10:59:00\n",
      "Direction switched from LONG to SHORT\n",
      "-0.021864180000000004\n",
      "LONG order opened price:0.08246\n",
      "SHORT order opened price:0.08214\n",
      "LONG tp order opened price:0.08257\n",
      "LONG sl order opened price:0.08197\n",
      "SHORT tp order opened price:0.08183\n",
      "SHORT sl order opened price:0.08257\n",
      "script continue running at 2022-11-09 10:59:06\n",
      "-0.04036769\n",
      "Positions exist, sl&tp stage..\n",
      "script continue running at 2022-11-09 10:59:12\n",
      "-0.04036769\n",
      "Positions exist, sl&tp stage..\n",
      "script continue running at 2022-11-09 10:59:18\n",
      "-0.04036769\n",
      "Positions exist, sl&tp stage..\n",
      "script continue running at 2022-11-09 10:59:24\n",
      "-0.04036769\n",
      "Positions exist, sl&tp stage..\n",
      "script continue running at 2022-11-09 10:59:30\n",
      "-0.04036769\n",
      "Positions exist, sl&tp stage..\n",
      "script continue running at 2022-11-09 10:59:36\n",
      "-0.04036769\n",
      "Positions exist, sl&tp stage..\n",
      "script continue running at 2022-11-09 10:59:42\n",
      "-0.04036769\n",
      "Positions exist, sl&tp stage..\n",
      "script continue running at 2022-11-09 10:59:48\n",
      "-0.04036769\n",
      "Positions exist, sl&tp stage..\n",
      "script continue running at 2022-11-09 10:59:54\n",
      "-0.04036769\n",
      "Positions exist, sl&tp stage..\n",
      "script continue running at 2022-11-09 11:00:00\n",
      "-0.04036769\n",
      "Positions exist, sl&tp stage..\n",
      "script continue running at 2022-11-09 11:00:06\n",
      "-0.04036769\n",
      "Positions exist, sl&tp stage..\n",
      "script continue running at 2022-11-09 11:00:12\n",
      "-0.04036769\n",
      "Positions exist, sl&tp stage..\n",
      "script continue running at 2022-11-09 11:00:18\n",
      "-0.04036769\n",
      "Positions exist, sl&tp stage..\n",
      "script continue running at 2022-11-09 11:00:24\n",
      "-0.04036769\n",
      "Positions exist, sl&tp stage..\n",
      "script continue running at 2022-11-09 11:00:30\n",
      "-0.04036769\n",
      "LONG compansation stage\n",
      "One step for LONG not in compensation condition\n",
      "script continue running at 2022-11-09 11:00:36\n",
      "-0.06412297000000002\n",
      "LONG compansation stage\n",
      "One step for LONG not in compensation condition\n",
      "script continue running at 2022-11-09 11:00:42\n",
      "-0.06412297000000002\n",
      "LONG compansation stage\n",
      "One step for LONG not in compensation condition\n",
      "script continue running at 2022-11-09 11:00:48\n",
      "Direction switched from SHORT to LONG\n",
      "-0.022486470000000015\n",
      "LONG order opened price:0.0827\n",
      "SHORT order opened price:0.08238\n",
      "LONG tp order opened price:0.08292\n",
      "SHORT sl order opened price:0.0828\n",
      "SHORT tp order opened price:0.0822\n",
      "LONG sl order opened price:0.08217\n",
      "script continue running at 2022-11-09 11:00:54\n",
      "-0.04098976000000003\n",
      "Positions exist, sl&tp stage..\n",
      "script continue running at 2022-11-09 11:01:00\n",
      "-0.04098976000000003\n",
      "Positions exist, sl&tp stage..\n",
      "script continue running at 2022-11-09 11:01:06\n",
      "Direction switched from LONG to SHORT\n",
      "-0.021604180000000014\n",
      "LONG order opened price:0.08233\n",
      "SHORT order opened price:0.08201\n"
     ]
    }
   ],
   "source": [
    "start_stop()"
   ]
  },
  {
   "cell_type": "code",
   "execution_count": null,
   "metadata": {},
   "outputs": [],
   "source": []
  }
 ],
 "metadata": {
  "kernelspec": {
   "display_name": "Python 3 (ipykernel)",
   "language": "python",
   "name": "python3"
  },
  "language_info": {
   "codemirror_mode": {
    "name": "ipython",
    "version": 3
   },
   "file_extension": ".py",
   "mimetype": "text/x-python",
   "name": "python",
   "nbconvert_exporter": "python",
   "pygments_lexer": "ipython3",
   "version": "3.9.12"
  }
 },
 "nbformat": 4,
 "nbformat_minor": 4
}
